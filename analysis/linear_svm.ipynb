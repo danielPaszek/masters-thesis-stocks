{
 "cells": [
  {
   "cell_type": "code",
   "execution_count": 10,
   "id": "initial_id",
   "metadata": {
    "collapsed": true,
    "ExecuteTime": {
     "end_time": "2025-05-23T16:47:11.605019Z",
     "start_time": "2025-05-23T16:47:11.599563Z"
    }
   },
   "outputs": [],
   "source": [
    "import pandas as pd\n",
    "import numpy as np\n",
    "import os\n",
    "from sklearn.preprocessing import StandardScaler\n",
    "from sklearn.model_selection import train_test_split, GridSearchCV, StratifiedKFold\n",
    "from sklearn.svm import SVC, LinearSVC\n",
    "from sklearn.metrics import classification_report, make_scorer, confusion_matrix\n",
    "from sklearn.pipeline import Pipeline\n",
    "from joblib import dump, load\n",
    "from headers import *\n",
    "from IPython.display import Markdown, display\n",
    "from math import sqrt"
   ]
  },
  {
   "cell_type": "markdown",
   "source": [
    "TRAINING"
   ],
   "metadata": {
    "collapsed": false
   },
   "id": "92a293a344de2f0a"
  },
  {
   "cell_type": "code",
   "outputs": [
    {
     "name": "stdout",
     "output_type": "stream",
     "text": [
      "Fitting 3 folds for each of 10 candidates, totalling 30 fits\n",
      "Results alpha1Year mean of: 0.058401035094455864\n",
      "Fitting 3 folds for each of 10 candidates, totalling 30 fits\n",
      "Results adjustedAlpha1Year mean of: 0.05138855192309529\n",
      "Fitting 3 folds for each of 10 candidates, totalling 30 fits\n",
      "Results equalAlpha1Year mean of: 0.061566350069853566\n",
      "Fitting 3 folds for each of 10 candidates, totalling 30 fits\n",
      "Results equalAdjustedAlpha1Year mean of: 0.049143291866449\n",
      "Fitting 3 folds for each of 10 candidates, totalling 30 fits\n",
      "Results alpha2Year mean of: 0.1561368966435215\n",
      "Fitting 3 folds for each of 10 candidates, totalling 30 fits\n",
      "Results adjustedAlpha2Year mean of: 0.12291775356300404\n",
      "Fitting 3 folds for each of 10 candidates, totalling 30 fits\n",
      "Results equalAlpha2Year mean of: 0.23382518930691878\n",
      "Fitting 3 folds for each of 10 candidates, totalling 30 fits\n",
      "Results equalAdjustedAlpha2Year mean of: 0.8459305816939832\n"
     ]
    }
   ],
   "source": [
    "df = pd.read_csv('../data/combined_inner.csv')\n",
    "X = df[ratioKeys + relativeRatioKeys]\n",
    "\n",
    "for yLabel in yAlpha:\n",
    "    yContinuous = df[yLabel]\n",
    "    y = np.where(yContinuous <= 0, 0, 1)\n",
    "\n",
    "    X_train, X_test, y_train, y_test = train_test_split(X, y, test_size=0.2, random_state=2, stratify=y)\n",
    "    pipeline = Pipeline([\n",
    "        ('scaler', StandardScaler()),\n",
    "        ('svc', LinearSVC())\n",
    "    ])\n",
    "\n",
    "    param_grid = {\n",
    "        'svc__C': [0.1, 0.5, 1.0, 5.0, 10.0],\n",
    "        'svc__penalty': ['l1', 'l2']\n",
    "    }\n",
    "\n",
    "    grid = GridSearchCV(pipeline,\n",
    "                        param_grid,\n",
    "                        cv=StratifiedKFold(3),\n",
    "                        verbose=1,\n",
    "                        refit=True,\n",
    "                        n_jobs=-1\n",
    "                        )\n",
    "    grid.fit(X_train, y_train)\n",
    "    y_pred = grid.predict(X_test)\n",
    "    xTaken = X_test[y_pred == 1]\n",
    "    wholeTestData = df.loc[df.index.intersection(X_test.index)]\n",
    "    wholeTestData.to_csv('../data/linear_svm_results/' + yLabel + '.csv', index=False)\n",
    "\n",
    "    takenData = df.loc[df.index.intersection(xTaken.index)]\n",
    "\n",
    "    estimator = grid.best_estimator_\n",
    "    dump(grid, '../data/linear_svm_models/' + yLabel + '.joblib')\n",
    "\n",
    "    print(f'Results {yLabel} mean of: {takenData.loc[:, yLabel].mean()}')"
   ],
   "metadata": {
    "collapsed": false,
    "ExecuteTime": {
     "end_time": "2025-05-23T16:47:37.302346Z",
     "start_time": "2025-05-23T16:47:11.618031Z"
    }
   },
   "id": "7e7c27494b899e27",
   "execution_count": 11
  },
  {
   "cell_type": "markdown",
   "source": [
    "RESULTS OVERVIEW"
   ],
   "metadata": {
    "collapsed": false
   },
   "id": "949ee6b0a9a05423"
  },
  {
   "cell_type": "code",
   "outputs": [
    {
     "data": {
      "text/plain": "<IPython.core.display.Markdown object>",
      "text/markdown": "**Results for key: alpha1Year**"
     },
     "metadata": {},
     "output_type": "display_data"
    },
    {
     "name": "stdout",
     "output_type": "stream",
     "text": [
      "data count: 6053\n",
      "data mean: 0.0300172769962029\n",
      "data median: -0.0031354597826141\n",
      "====TEST=====\n",
      "res count 2768\n",
      "res mean 0.058401035094455864\n",
      "res median 0.012927754741060251\n",
      "[[1726 1331]\n",
      " [1559 1437]]\n"
     ]
    },
    {
     "data": {
      "text/plain": "<IPython.core.display.Markdown object>",
      "text/markdown": "**diff: 0.028383758098252963**"
     },
     "metadata": {},
     "output_type": "display_data"
    },
    {
     "name": "stdout",
     "output_type": "stream",
     "text": [
      "-------------------------------------------------\n"
     ]
    },
    {
     "data": {
      "text/plain": "<IPython.core.display.Markdown object>",
      "text/markdown": "**Results for key: adjustedAlpha1Year**"
     },
     "metadata": {},
     "output_type": "display_data"
    },
    {
     "name": "stdout",
     "output_type": "stream",
     "text": [
      "data count: 6053\n",
      "data mean: 0.03069154232727888\n",
      "data median: -0.0027346138213903\n",
      "====TEST=====\n",
      "res count 2717\n",
      "res mean 0.05138855192309529\n",
      "res median 0.0074582397724619\n",
      "[[1715 1328]\n",
      " [1621 1389]]\n"
     ]
    },
    {
     "data": {
      "text/plain": "<IPython.core.display.Markdown object>",
      "text/markdown": "**diff: 0.020697009595816412**"
     },
     "metadata": {},
     "output_type": "display_data"
    },
    {
     "name": "stdout",
     "output_type": "stream",
     "text": [
      "-------------------------------------------------\n"
     ]
    },
    {
     "data": {
      "text/plain": "<IPython.core.display.Markdown object>",
      "text/markdown": "**Results for key: equalAlpha1Year**"
     },
     "metadata": {},
     "output_type": "display_data"
    },
    {
     "name": "stdout",
     "output_type": "stream",
     "text": [
      "data count: 6053\n",
      "data mean: -0.0005140143373880067\n",
      "data median: -0.0269341720292398\n",
      "====TEST=====\n",
      "res count 851\n",
      "res mean 0.061566350069853566\n",
      "res median 0.0130280468493187\n",
      "[[2872  408]\n",
      " [2330  443]]\n"
     ]
    },
    {
     "data": {
      "text/plain": "<IPython.core.display.Markdown object>",
      "text/markdown": "**diff: 0.06208036440724157**"
     },
     "metadata": {},
     "output_type": "display_data"
    },
    {
     "name": "stdout",
     "output_type": "stream",
     "text": [
      "-------------------------------------------------\n"
     ]
    },
    {
     "data": {
      "text/plain": "<IPython.core.display.Markdown object>",
      "text/markdown": "**Results for key: equalAdjustedAlpha1Year**"
     },
     "metadata": {},
     "output_type": "display_data"
    },
    {
     "name": "stdout",
     "output_type": "stream",
     "text": [
      "data count: 6053\n",
      "data mean: 0.0022943754574641026\n",
      "data median: -0.0252829451284293\n",
      "====TEST=====\n",
      "res count 806\n",
      "res mean 0.049143291866449\n",
      "res median 0.00733619785329025\n",
      "[[2882  396]\n",
      " [2365  410]]\n"
     ]
    },
    {
     "data": {
      "text/plain": "<IPython.core.display.Markdown object>",
      "text/markdown": "**diff: 0.0468489164089849**"
     },
     "metadata": {},
     "output_type": "display_data"
    },
    {
     "name": "stdout",
     "output_type": "stream",
     "text": [
      "-------------------------------------------------\n"
     ]
    },
    {
     "data": {
      "text/plain": "<IPython.core.display.Markdown object>",
      "text/markdown": "**Results for key: alpha2Year**"
     },
     "metadata": {},
     "output_type": "display_data"
    },
    {
     "name": "stdout",
     "output_type": "stream",
     "text": [
      "data count: 6053\n",
      "data mean: 0.03438167051225602\n",
      "data median: -0.046537226661542\n",
      "====TEST=====\n",
      "res count 635\n",
      "res mean 0.1561368966435215\n",
      "res median 0.0364710608386151\n",
      "[[3039  298]\n",
      " [2379  337]]\n"
     ]
    },
    {
     "data": {
      "text/plain": "<IPython.core.display.Markdown object>",
      "text/markdown": "**diff: 0.12175522613126549**"
     },
     "metadata": {},
     "output_type": "display_data"
    },
    {
     "name": "stdout",
     "output_type": "stream",
     "text": [
      "CAGR: 0.059129466180251944\n",
      "-------------------------------------------------\n"
     ]
    },
    {
     "data": {
      "text/plain": "<IPython.core.display.Markdown object>",
      "text/markdown": "**Results for key: adjustedAlpha2Year**"
     },
     "metadata": {},
     "output_type": "display_data"
    },
    {
     "name": "stdout",
     "output_type": "stream",
     "text": [
      "data count: 6053\n",
      "data mean: 0.0308540392764738\n",
      "data median: -0.0467539697115497\n",
      "====TEST=====\n",
      "res count 662\n",
      "res mean 0.12291775356300404\n",
      "res median 0.03871233580331945\n",
      "[[3010  301]\n",
      " [2381  361]]\n"
     ]
    },
    {
     "data": {
      "text/plain": "<IPython.core.display.Markdown object>",
      "text/markdown": "**diff: 0.09206371428653023**"
     },
     "metadata": {},
     "output_type": "display_data"
    },
    {
     "name": "stdout",
     "output_type": "stream",
     "text": [
      "CAGR: 0.045018523417901024\n",
      "-------------------------------------------------\n"
     ]
    },
    {
     "data": {
      "text/plain": "<IPython.core.display.Markdown object>",
      "text/markdown": "**Results for key: equalAlpha2Year**"
     },
     "metadata": {},
     "output_type": "display_data"
    },
    {
     "name": "stdout",
     "output_type": "stream",
     "text": [
      "data count: 6053\n",
      "data mean: -0.006875623891206189\n",
      "data median: -0.0953112579061575\n",
      "====TEST=====\n",
      "res count 82\n",
      "res mean 0.23382518930691878\n",
      "res median 0.0651943971238062\n",
      "[[3567   36]\n",
      " [2404   46]]\n"
     ]
    },
    {
     "data": {
      "text/plain": "<IPython.core.display.Markdown object>",
      "text/markdown": "**diff: 0.24070081319812497**"
     },
     "metadata": {},
     "output_type": "display_data"
    },
    {
     "name": "stdout",
     "output_type": "stream",
     "text": [
      "CAGR: 0.11386750253256106\n",
      "-------------------------------------------------\n"
     ]
    },
    {
     "data": {
      "text/plain": "<IPython.core.display.Markdown object>",
      "text/markdown": "**Results for key: equalAdjustedAlpha2Year**"
     },
     "metadata": {},
     "output_type": "display_data"
    },
    {
     "name": "stdout",
     "output_type": "stream",
     "text": [
      "data count: 6053\n",
      "data mean: 0.002947332607081462\n",
      "data median: -0.0894219371820089\n",
      "====TEST=====\n",
      "res count 81\n",
      "res mean 0.8459305816939832\n",
      "res median 0.1581123758336411\n",
      "[[3561   38]\n",
      " [2411   43]]\n"
     ]
    },
    {
     "data": {
      "text/plain": "<IPython.core.display.Markdown object>",
      "text/markdown": "**diff: 0.8429832490869017**"
     },
     "metadata": {},
     "output_type": "display_data"
    },
    {
     "name": "stdout",
     "output_type": "stream",
     "text": [
      "CAGR: 0.35756519146849874\n",
      "-------------------------------------------------\n"
     ]
    }
   ],
   "source": [
    "for label in yAlpha:\n",
    "    model = load('../data/linear_svm_models/' + label + '.joblib')\n",
    "    testedData = pd.read_csv('../data/linear_svm_results/' + label + '.csv')\n",
    "\n",
    "    X = testedData[ratioKeys + relativeRatioKeys]\n",
    "    # TODO: adjust/test cut off for another svm batch\n",
    "    y = np.where(testedData[label] <= 0, 0, 1)\n",
    "    display(Markdown(f'**Results for key: {label}**'))\n",
    "    print(f'data count: {testedData[label].count()}')\n",
    "    print(f'data mean: {testedData[label].mean()}')\n",
    "    print(f'data median: {testedData[label].median()}')\n",
    "\n",
    "    print('====TEST=====')\n",
    "    y_pred = model.predict(X)\n",
    "    xTaken = X[y_pred == 1]\n",
    "    results = testedData.loc[testedData.index.intersection(xTaken.index)]\n",
    "\n",
    "    print(f'res count {results[label].count()}')\n",
    "    print(f'res mean {results[label].mean()}')\n",
    "    print(f'res median {results[label].median()}')\n",
    "\n",
    "    print(confusion_matrix(y, y_pred))\n",
    "\n",
    "    display(Markdown(f'**diff: {results[label].mean() - testedData[label].mean()}**'))\n",
    "    if '2' in label:\n",
    "        cagrToBenchmark = sqrt(results[label].mean() - testedData[label].mean() + 1) - 1\n",
    "        print(f'CAGR: {cagrToBenchmark}')\n",
    "    print('-------------------------------------------------')\n",
    "\n",
    "# TODO: iterate over y cutoffs. Train each cutoff with gridCV. Train linearSVC first, and check how faster it is. \n",
    "# TODO: maybe use (Linear)SVR - regression, since we have linear regression"
   ],
   "metadata": {
    "collapsed": false,
    "ExecuteTime": {
     "end_time": "2025-05-23T16:51:14.548509Z",
     "start_time": "2025-05-23T16:51:13.886049Z"
    }
   },
   "id": "dc366c98b7294bdb",
   "execution_count": 15
  },
  {
   "cell_type": "code",
   "outputs": [],
   "source": [],
   "metadata": {
    "collapsed": false
   },
   "id": "6f9312e37ce06f55"
  }
 ],
 "metadata": {
  "kernelspec": {
   "display_name": "Python 3",
   "language": "python",
   "name": "python3"
  },
  "language_info": {
   "codemirror_mode": {
    "name": "ipython",
    "version": 2
   },
   "file_extension": ".py",
   "mimetype": "text/x-python",
   "name": "python",
   "nbconvert_exporter": "python",
   "pygments_lexer": "ipython2",
   "version": "2.7.6"
  }
 },
 "nbformat": 4,
 "nbformat_minor": 5
}
