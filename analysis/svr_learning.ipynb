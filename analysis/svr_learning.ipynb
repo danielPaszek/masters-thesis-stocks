{
 "cells": [
  {
   "cell_type": "code",
   "outputs": [],
   "source": [
    "from headers import *\n",
    "from sklearn.tree import DecisionTreeClassifier\n",
    "import pandas as pd\n",
    "import numpy as np\n",
    "from utils.custom_train_test_split import custom_train_test_split\n",
    "import os\n",
    "from sklearn.preprocessing import StandardScaler\n",
    "from sklearn.model_selection import train_test_split, GridSearchCV, StratifiedKFold, KFold\n",
    "from sklearn.svm import SVC, LinearSVC, LinearSVR\n",
    "from sklearn.metrics import classification_report, make_scorer, confusion_matrix\n",
    "from sklearn.pipeline import Pipeline\n",
    "import matplotlib.pyplot as plt\n",
    "from joblib import dump, load\n",
    "from IPython.display import Markdown, display\n",
    "from math import sqrt\n",
    "import json"
   ],
   "metadata": {
    "collapsed": false,
    "ExecuteTime": {
     "end_time": "2025-06-08T14:58:04.472131Z",
     "start_time": "2025-06-08T14:58:04.463988Z"
    }
   },
   "id": "c913698fe6b1a799",
   "execution_count": 52
  },
  {
   "cell_type": "code",
   "outputs": [],
   "source": [
    "trainDf, testDf = custom_train_test_split(['../data/combined_inner_ticker.csv', '../data/extra-data/combined_inner_ticker.csv'])\n",
    "X_train = trainDf[ratioKeys + relativeRatioKeys]\n",
    "X_test = testDf[ratioKeys + relativeRatioKeys]"
   ],
   "metadata": {
    "collapsed": false,
    "ExecuteTime": {
     "end_time": "2025-06-08T14:58:04.970411Z",
     "start_time": "2025-06-08T14:58:04.481345Z"
    }
   },
   "id": "191b2fefbf53f569",
   "execution_count": 53
  },
  {
   "cell_type": "code",
   "execution_count": 54,
   "id": "initial_id",
   "metadata": {
    "collapsed": true,
    "ExecuteTime": {
     "end_time": "2025-06-08T14:58:04.979463Z",
     "start_time": "2025-06-08T14:58:04.974751Z"
    }
   },
   "outputs": [],
   "source": [
    "# y_train = trainDf['alpha1Year']\n",
    "# y_test = testDf['alpha1Year']\n",
    "# \n",
    "# regr = Pipeline([\n",
    "#     ('scaler', StandardScaler()),\n",
    "#     ('svr', LinearSVR(random_state=0, tol=1e-5))\n",
    "# ])\n",
    "# regr.fit(X_train, y_train)\n",
    "# regr.score(X_test, y_test)"
   ]
  },
  {
   "cell_type": "code",
   "outputs": [
    {
     "name": "stdout",
     "output_type": "stream",
     "text": [
      "alpha1Year\n",
      "Fitting 3 folds for each of 36 candidates, totalling 108 fits\n"
     ]
    },
    {
     "name": "stderr",
     "output_type": "stream",
     "text": [
      "F:\\programowanie\\studia\\magisterka\\sec_scrapper2\\finchat\\.venv\\Lib\\site-packages\\sklearn\\svm\\_base.py:1249: ConvergenceWarning: Liblinear failed to converge, increase the number of iterations.\n",
      "  warnings.warn(\n"
     ]
    },
    {
     "name": "stdout",
     "output_type": "stream",
     "text": [
      "-0.003714635824860091\n",
      "adjustedAlpha1Year\n",
      "Fitting 3 folds for each of 36 candidates, totalling 108 fits\n"
     ]
    },
    {
     "name": "stderr",
     "output_type": "stream",
     "text": [
      "F:\\programowanie\\studia\\magisterka\\sec_scrapper2\\finchat\\.venv\\Lib\\site-packages\\sklearn\\svm\\_base.py:1249: ConvergenceWarning: Liblinear failed to converge, increase the number of iterations.\n",
      "  warnings.warn(\n"
     ]
    },
    {
     "name": "stdout",
     "output_type": "stream",
     "text": [
      "-0.00824180526822138\n",
      "equalAlpha1Year\n",
      "Fitting 3 folds for each of 36 candidates, totalling 108 fits\n"
     ]
    },
    {
     "name": "stderr",
     "output_type": "stream",
     "text": [
      "F:\\programowanie\\studia\\magisterka\\sec_scrapper2\\finchat\\.venv\\Lib\\site-packages\\sklearn\\svm\\_base.py:1249: ConvergenceWarning: Liblinear failed to converge, increase the number of iterations.\n",
      "  warnings.warn(\n"
     ]
    },
    {
     "name": "stdout",
     "output_type": "stream",
     "text": [
      "-0.0013391861514910897\n",
      "equalAdjustedAlpha1Year\n",
      "Fitting 3 folds for each of 36 candidates, totalling 108 fits\n"
     ]
    },
    {
     "name": "stderr",
     "output_type": "stream",
     "text": [
      "F:\\programowanie\\studia\\magisterka\\sec_scrapper2\\finchat\\.venv\\Lib\\site-packages\\sklearn\\svm\\_base.py:1249: ConvergenceWarning: Liblinear failed to converge, increase the number of iterations.\n",
      "  warnings.warn(\n"
     ]
    },
    {
     "name": "stdout",
     "output_type": "stream",
     "text": [
      "-0.005369040344709752\n",
      "alpha2Year\n",
      "Fitting 3 folds for each of 36 candidates, totalling 108 fits\n"
     ]
    },
    {
     "name": "stderr",
     "output_type": "stream",
     "text": [
      "F:\\programowanie\\studia\\magisterka\\sec_scrapper2\\finchat\\.venv\\Lib\\site-packages\\sklearn\\svm\\_base.py:1249: ConvergenceWarning: Liblinear failed to converge, increase the number of iterations.\n",
      "  warnings.warn(\n"
     ]
    },
    {
     "name": "stdout",
     "output_type": "stream",
     "text": [
      "-0.0006296371710499127\n",
      "adjustedAlpha2Year\n",
      "Fitting 3 folds for each of 36 candidates, totalling 108 fits\n"
     ]
    },
    {
     "name": "stderr",
     "output_type": "stream",
     "text": [
      "F:\\programowanie\\studia\\magisterka\\sec_scrapper2\\finchat\\.venv\\Lib\\site-packages\\sklearn\\svm\\_base.py:1249: ConvergenceWarning: Liblinear failed to converge, increase the number of iterations.\n",
      "  warnings.warn(\n"
     ]
    },
    {
     "name": "stdout",
     "output_type": "stream",
     "text": [
      "0.0011125070507497226\n",
      "equalAlpha2Year\n",
      "Fitting 3 folds for each of 36 candidates, totalling 108 fits\n"
     ]
    },
    {
     "name": "stderr",
     "output_type": "stream",
     "text": [
      "F:\\programowanie\\studia\\magisterka\\sec_scrapper2\\finchat\\.venv\\Lib\\site-packages\\sklearn\\svm\\_base.py:1249: ConvergenceWarning: Liblinear failed to converge, increase the number of iterations.\n",
      "  warnings.warn(\n"
     ]
    },
    {
     "name": "stdout",
     "output_type": "stream",
     "text": [
      "-0.001266596394306374\n",
      "equalAdjustedAlpha2Year\n",
      "Fitting 3 folds for each of 36 candidates, totalling 108 fits\n",
      "0.001126515381674853\n"
     ]
    },
    {
     "name": "stderr",
     "output_type": "stream",
     "text": [
      "F:\\programowanie\\studia\\magisterka\\sec_scrapper2\\finchat\\.venv\\Lib\\site-packages\\sklearn\\svm\\_base.py:1249: ConvergenceWarning: Liblinear failed to converge, increase the number of iterations.\n",
      "  warnings.warn(\n"
     ]
    }
   ],
   "source": [
    "resultsToPlotNoWeights = {}\n",
    "\n",
    "for yLabel in yAlpha:\n",
    "# for yLabel in ['alpha2Year']:\n",
    "    # if yLabel not in resultsToPlotNoWeights:\n",
    "    #     resultsToPlotNoWeights[yLabel] = {}\n",
    "    print(yLabel)\n",
    "    y_train = trainDf[yLabel]\n",
    "    y_test = testDf[yLabel]\n",
    "    nulls = np.where(y_train.isnull())\n",
    "    \n",
    "    pipeline = Pipeline([\n",
    "            ('scaler', StandardScaler()),\n",
    "            ('svr', LinearSVR())\n",
    "        ])\n",
    "    params = [\n",
    "        {\n",
    "            'svr__C': [0.1, 0.5, 1.0, 5.0],\n",
    "            'svr__epsilon': [0.0, 0.1, 0.5],\n",
    "            'svr__tol': [1e-5, 1e-4, 1e-3]\n",
    "        }\n",
    "    ]\n",
    "    grid = GridSearchCV(pipeline,\n",
    "                params,\n",
    "                cv=KFold(3),\n",
    "                verbose=1,\n",
    "                refit=True,\n",
    "                n_jobs=-1,\n",
    "                scoring='r2',\n",
    "                error_score='raise'\n",
    "                )\n",
    "    grid.fit(X_train, y_train)\n",
    "    # \n",
    "    print(grid.score(X_test, y_test))\n",
    "        # y_pred = grid.predict(X_test)\n",
    "        # wholeTestData = testDf.loc[testDf.index.intersection(X_test.index)]\n",
    "        # \n",
    "        # xTaken = X_test[y_pred == 1]\n",
    "        # xTrue = X_test[y_test == 1]\n",
    "        # \n",
    "        # takenData = testDf.loc[testDf.index.intersection(xTaken.index)]\n",
    "        # trueData = testDf.loc[testDf.index.intersection(xTrue.index)]\n",
    "        \n",
    "        # prc = round(takenData.loc[:, yLabel].count() / wholeTestData.loc[:, yLabel].count(), 4) * 100\n",
    "        # print(f'Mean was {round(takenData.loc[:, yLabel].mean() * 100, 2)}%, median was {round(takenData.loc[:, yLabel].median()*100, 2)}%')\n",
    "        # print(f'% of True in dataset {round(len(y_test[y_test==1]) / len(y_test) * 100, 2)}% resulted in {round(trueData.loc[:, yLabel].mean() * 100, 2)}% and median {round(trueData.loc[:, yLabel].median() * 100,2)}%')\n",
    "        # print('-----------')\n",
    "        \n",
    "        # if key not in resultsToPlotNoWeights[yLabel]:\n",
    "        #     resultsToPlotNoWeights[yLabel][key] = []\n",
    "        # resultsToPlotNoWeights[yLabel][key].append({\n",
    "        #     'mean': takenData.loc[:, yLabel].mean(),\n",
    "        #     'median': takenData.loc[:, yLabel].median(),\n",
    "        #     'taken': takenData.loc[:, yLabel].count()\n",
    "        # })"
   ],
   "metadata": {
    "collapsed": false,
    "ExecuteTime": {
     "end_time": "2025-06-08T15:14:20.425187Z",
     "start_time": "2025-06-08T14:58:04.979463Z"
    }
   },
   "id": "f02d237b1e71e443",
   "execution_count": 55
  }
 ],
 "metadata": {
  "kernelspec": {
   "display_name": "Python 3",
   "language": "python",
   "name": "python3"
  },
  "language_info": {
   "codemirror_mode": {
    "name": "ipython",
    "version": 2
   },
   "file_extension": ".py",
   "mimetype": "text/x-python",
   "name": "python",
   "nbconvert_exporter": "python",
   "pygments_lexer": "ipython2",
   "version": "2.7.6"
  }
 },
 "nbformat": 4,
 "nbformat_minor": 5
}
