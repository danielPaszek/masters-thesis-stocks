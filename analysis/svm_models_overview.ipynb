{
 "cells": [
  {
   "cell_type": "code",
   "outputs": [],
   "source": [
    "from joblib import dump, load\n",
    "import pandas as pd\n",
    "import numpy as np\n",
    "from headers import *\n",
    "from sklearn.metrics import classification_report, make_scorer, confusion_matrix\n",
    "from IPython.display import Markdown, display"
   ],
   "metadata": {
    "collapsed": false,
    "ExecuteTime": {
     "end_time": "2025-05-22T14:22:45.759214Z",
     "start_time": "2025-05-22T14:22:45.752604Z"
    }
   },
   "id": "9abde99543c6759d",
   "execution_count": 17
  },
  {
   "cell_type": "markdown",
   "source": [
    "Mean return for purchases (1 and 2-year holding period) that beat benchmark"
   ],
   "metadata": {
    "collapsed": false
   },
   "id": "b423decce852e492"
  },
  {
   "cell_type": "code",
   "outputs": [
    {
     "name": "stdout",
     "output_type": "stream",
     "text": [
      "alpha1Year: 0.255, overall mean: 0.025\n",
      "adjustedAlpha1Year: 0.255, overall mean: 0.027\n",
      "equalAlpha1Year: 0.246, overall mean: -0.001\n",
      "equalAdjustedAlpha1Year: 0.245, overall mean: -0.001\n",
      "alpha2Year: 0.456, overall mean: 0.035\n",
      "adjustedAlpha2Year: 0.452, overall mean: 0.037\n",
      "equalAlpha2Year: 0.46, overall mean: -0.004\n",
      "equalAdjustedAlpha2Year: 0.457, overall mean: -0.004\n"
     ]
    }
   ],
   "source": [
    "df = pd.read_csv('../data/combined_inner.csv')\n",
    "for label in yAlpha:\n",
    "    positiveAlpha = df[df[label] >= 0]\n",
    "    print(f'{label}: {round(positiveAlpha[label].mean(),3)}, overall mean: {round(df[label].mean(),3)}')"
   ],
   "metadata": {
    "collapsed": false,
    "ExecuteTime": {
     "end_time": "2025-05-22T14:22:46.052489Z",
     "start_time": "2025-05-22T14:22:45.776836Z"
    }
   },
   "id": "7d9fab19960c8f",
   "execution_count": 18
  },
  {
   "cell_type": "markdown",
   "source": [
    "Note - 2 year returns are 2 year returns, not CAGR over 2 years. Can't be compared 1 to 1"
   ],
   "metadata": {
    "collapsed": false
   },
   "id": "4575ef47275ad6c2"
  },
  {
   "cell_type": "code",
   "execution_count": 19,
   "id": "initial_id",
   "metadata": {
    "collapsed": true,
    "ExecuteTime": {
     "end_time": "2025-05-22T14:24:26.796245Z",
     "start_time": "2025-05-22T14:22:46.054683Z"
    }
   },
   "outputs": [
    {
     "data": {
      "text/plain": "<IPython.core.display.Markdown object>",
      "text/markdown": "**Results for key: alpha1Year**"
     },
     "metadata": {},
     "output_type": "display_data"
    },
    {
     "name": "stdout",
     "output_type": "stream",
     "text": [
      "data count: 6053\n",
      "data mean: 0.0300172769962029\n",
      "====TEST=====\n",
      "res count 3191\n",
      "res mean 0.08618092754640873\n",
      "[[1746 1311]\n",
      " [1116 1880]]\n"
     ]
    },
    {
     "data": {
      "text/plain": "<IPython.core.display.Markdown object>",
      "text/markdown": "**diff: 0.05616365055020583**"
     },
     "metadata": {},
     "output_type": "display_data"
    },
    {
     "name": "stdout",
     "output_type": "stream",
     "text": [
      "-------------------------------------------------\n"
     ]
    },
    {
     "data": {
      "text/plain": "<IPython.core.display.Markdown object>",
      "text/markdown": "**Results for key: adjustedAlpha1Year**"
     },
     "metadata": {},
     "output_type": "display_data"
    },
    {
     "name": "stdout",
     "output_type": "stream",
     "text": [
      "data count: 6053\n",
      "data mean: 0.03069154232727888\n",
      "====TEST=====\n",
      "res count 3319\n",
      "res mean 0.08724656949335886\n",
      "[[1663 1380]\n",
      " [1071 1939]]\n"
     ]
    },
    {
     "data": {
      "text/plain": "<IPython.core.display.Markdown object>",
      "text/markdown": "**diff: 0.056555027166079984**"
     },
     "metadata": {},
     "output_type": "display_data"
    },
    {
     "name": "stdout",
     "output_type": "stream",
     "text": [
      "-------------------------------------------------\n"
     ]
    },
    {
     "data": {
      "text/plain": "<IPython.core.display.Markdown object>",
      "text/markdown": "**Results for key: equalAlpha1Year**"
     },
     "metadata": {},
     "output_type": "display_data"
    },
    {
     "name": "stdout",
     "output_type": "stream",
     "text": [
      "data count: 6053\n",
      "data mean: -0.0005140143373880067\n",
      "====TEST=====\n",
      "res count 1304\n",
      "res mean 0.12032397185252566\n",
      "[[2775  505]\n",
      " [1974  799]]\n"
     ]
    },
    {
     "data": {
      "text/plain": "<IPython.core.display.Markdown object>",
      "text/markdown": "**diff: 0.12083798618991368**"
     },
     "metadata": {},
     "output_type": "display_data"
    },
    {
     "name": "stdout",
     "output_type": "stream",
     "text": [
      "-------------------------------------------------\n"
     ]
    },
    {
     "data": {
      "text/plain": "<IPython.core.display.Markdown object>",
      "text/markdown": "**Results for key: equalAdjustedAlpha1Year**"
     },
     "metadata": {},
     "output_type": "display_data"
    },
    {
     "name": "stdout",
     "output_type": "stream",
     "text": [
      "data count: 6053\n",
      "data mean: 0.0022943754574641026\n",
      "====TEST=====\n",
      "res count 1452\n",
      "res mean 0.11743820774544717\n",
      "[[2710  568]\n",
      " [1891  884]]\n"
     ]
    },
    {
     "data": {
      "text/plain": "<IPython.core.display.Markdown object>",
      "text/markdown": "**diff: 0.11514383228798306**"
     },
     "metadata": {},
     "output_type": "display_data"
    },
    {
     "name": "stdout",
     "output_type": "stream",
     "text": [
      "-------------------------------------------------\n"
     ]
    },
    {
     "data": {
      "text/plain": "<IPython.core.display.Markdown object>",
      "text/markdown": "**Results for key: alpha2Year**"
     },
     "metadata": {},
     "output_type": "display_data"
    },
    {
     "name": "stdout",
     "output_type": "stream",
     "text": [
      "data count: 6053\n",
      "data mean: 0.03438167051225602\n",
      "====TEST=====\n",
      "res count 1896\n",
      "res mean 0.23426657599418027\n",
      "[[2625  712]\n",
      " [1532 1184]]\n"
     ]
    },
    {
     "data": {
      "text/plain": "<IPython.core.display.Markdown object>",
      "text/markdown": "**diff: 0.19988490548192425**"
     },
     "metadata": {},
     "output_type": "display_data"
    },
    {
     "name": "stdout",
     "output_type": "stream",
     "text": [
      "-------------------------------------------------\n"
     ]
    },
    {
     "data": {
      "text/plain": "<IPython.core.display.Markdown object>",
      "text/markdown": "**Results for key: adjustedAlpha2Year**"
     },
     "metadata": {},
     "output_type": "display_data"
    },
    {
     "name": "stdout",
     "output_type": "stream",
     "text": [
      "data count: 6053\n",
      "data mean: 0.0308540392764738\n",
      "====TEST=====\n",
      "res count 1683\n",
      "res mean 0.2279131598860506\n",
      "[[2698  613]\n",
      " [1672 1070]]\n"
     ]
    },
    {
     "data": {
      "text/plain": "<IPython.core.display.Markdown object>",
      "text/markdown": "**diff: 0.1970591206095768**"
     },
     "metadata": {},
     "output_type": "display_data"
    },
    {
     "name": "stdout",
     "output_type": "stream",
     "text": [
      "-------------------------------------------------\n"
     ]
    },
    {
     "data": {
      "text/plain": "<IPython.core.display.Markdown object>",
      "text/markdown": "**Results for key: equalAlpha2Year**"
     },
     "metadata": {},
     "output_type": "display_data"
    },
    {
     "name": "stdout",
     "output_type": "stream",
     "text": [
      "data count: 6053\n",
      "data mean: -0.006875623891206189\n",
      "====TEST=====\n",
      "res count 690\n",
      "res mean 0.3509518193232506\n",
      "[[3402  201]\n",
      " [1961  489]]\n"
     ]
    },
    {
     "data": {
      "text/plain": "<IPython.core.display.Markdown object>",
      "text/markdown": "**diff: 0.35782744321445675**"
     },
     "metadata": {},
     "output_type": "display_data"
    },
    {
     "name": "stdout",
     "output_type": "stream",
     "text": [
      "-------------------------------------------------\n"
     ]
    },
    {
     "data": {
      "text/plain": "<IPython.core.display.Markdown object>",
      "text/markdown": "**Results for key: equalAdjustedAlpha2Year**"
     },
     "metadata": {},
     "output_type": "display_data"
    },
    {
     "name": "stdout",
     "output_type": "stream",
     "text": [
      "data count: 6053\n",
      "data mean: 0.002947332607081462\n",
      "====TEST=====\n",
      "res count 668\n",
      "res mean 0.3558874474355833\n",
      "[[3380  219]\n",
      " [2005  449]]\n"
     ]
    },
    {
     "data": {
      "text/plain": "<IPython.core.display.Markdown object>",
      "text/markdown": "**diff: 0.35294011482850185**"
     },
     "metadata": {},
     "output_type": "display_data"
    },
    {
     "name": "stdout",
     "output_type": "stream",
     "text": [
      "-------------------------------------------------\n"
     ]
    }
   ],
   "source": [
    "for label in yAlpha:\n",
    "    model = load('./models2/' + label + '.joblib')\n",
    "    testedData = pd.read_csv('../data/svm_results/' + label + '.csv')\n",
    "\n",
    "    X = testedData[ratioKeys + relativeRatioKeys]\n",
    "    # TODO: adjust/test cut off for another svm batch\n",
    "    y = np.where(testedData[label] <= 0, 0, 1)\n",
    "    display(Markdown(f'**Results for key: {label}**'))\n",
    "    print(f'data count: {testedData[label].count()}')\n",
    "    print(f'data mean: {testedData[label].mean()}')\n",
    "\n",
    "    print('====TEST=====')\n",
    "    y_pred = model.predict(X)\n",
    "    xTaken = X[y_pred == 1]\n",
    "    results = testedData.loc[testedData.index.intersection(xTaken.index)]\n",
    "\n",
    "    print(f'res count {results[label].count()}')\n",
    "    print(f'res mean {results[label].mean()}')\n",
    "\n",
    "    print(confusion_matrix(y, y_pred))\n",
    "\n",
    "    display(Markdown(f'**diff: {results[label].mean() - testedData[label].mean()}**'))\n",
    "    print('-------------------------------------------------')\n",
    "\n"
   ]
  }
 ],
 "metadata": {
  "kernelspec": {
   "display_name": "Python 3",
   "language": "python",
   "name": "python3"
  },
  "language_info": {
   "codemirror_mode": {
    "name": "ipython",
    "version": 2
   },
   "file_extension": ".py",
   "mimetype": "text/x-python",
   "name": "python",
   "nbconvert_exporter": "python",
   "pygments_lexer": "ipython2",
   "version": "2.7.6"
  }
 },
 "nbformat": 4,
 "nbformat_minor": 5
}
