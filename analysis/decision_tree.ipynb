{
 "cells": [
  {
   "cell_type": "code",
   "execution_count": 6,
   "id": "initial_id",
   "metadata": {
    "collapsed": true,
    "ExecuteTime": {
     "end_time": "2025-05-23T17:05:15.522147Z",
     "start_time": "2025-05-23T17:05:15.517500Z"
    }
   },
   "outputs": [],
   "source": [
    "from headers import *\n",
    "from sklearn.tree import DecisionTreeClassifier\n",
    "import pandas as pd\n",
    "import numpy as np\n",
    "import os\n",
    "from sklearn.preprocessing import StandardScaler\n",
    "from sklearn.model_selection import train_test_split, GridSearchCV, StratifiedKFold\n",
    "from sklearn.svm import SVC, LinearSVC\n",
    "from sklearn.metrics import classification_report, make_scorer, confusion_matrix\n",
    "from sklearn.pipeline import Pipeline\n",
    "from joblib import dump, load\n",
    "from IPython.display import Markdown, display\n",
    "from math import sqrt"
   ]
  },
  {
   "cell_type": "code",
   "outputs": [
    {
     "name": "stdout",
     "output_type": "stream",
     "text": [
      "Fitting 3 folds for each of 3 candidates, totalling 9 fits\n",
      "Results alpha1Year mean of: 0.15653675508716436\n",
      "Fitting 3 folds for each of 3 candidates, totalling 9 fits\n",
      "Results adjustedAlpha1Year mean of: 0.1635819123795836\n",
      "Fitting 3 folds for each of 3 candidates, totalling 9 fits\n",
      "Results equalAlpha1Year mean of: 0.1441426871690846\n",
      "Fitting 3 folds for each of 3 candidates, totalling 9 fits\n",
      "Results equalAdjustedAlpha1Year mean of: 0.15035732547406913\n",
      "Fitting 3 folds for each of 3 candidates, totalling 9 fits\n",
      "Results alpha2Year mean of: 0.32320891221244263\n",
      "Fitting 3 folds for each of 3 candidates, totalling 9 fits\n",
      "Results adjustedAlpha2Year mean of: 0.28812714479347945\n",
      "Fitting 3 folds for each of 3 candidates, totalling 9 fits\n",
      "Results equalAlpha2Year mean of: 0.31628891587900254\n",
      "Fitting 3 folds for each of 3 candidates, totalling 9 fits\n",
      "Results equalAdjustedAlpha2Year mean of: 0.3211670876589014\n"
     ]
    }
   ],
   "source": [
    "df = pd.read_csv('../data/combined_inner.csv')\n",
    "X = df[ratioKeys + relativeRatioKeys]\n",
    "\n",
    "for yLabel in yAlpha:\n",
    "    yContinuous = df[yLabel]\n",
    "    y = np.where(yContinuous <= 0, 0, 1)\n",
    "\n",
    "    X_train, X_test, y_train, y_test = train_test_split(X, y, test_size=0.2, random_state=2, stratify=y)\n",
    "    pipeline = Pipeline([\n",
    "        ('scaler', StandardScaler()),\n",
    "        ('tree', DecisionTreeClassifier())\n",
    "    ])\n",
    "\n",
    "    param_grid = {\n",
    "        'tree__criterion': [\"gini\", \"entropy\", \"log_loss\"],\n",
    "    }\n",
    "\n",
    "    grid = GridSearchCV(pipeline,\n",
    "                        param_grid,\n",
    "                        cv=StratifiedKFold(3),\n",
    "                        verbose=1,\n",
    "                        refit=True,\n",
    "                        n_jobs=-1\n",
    "                        )\n",
    "    grid.fit(X_train, y_train)\n",
    "    y_pred = grid.predict(X_test)\n",
    "    xTaken = X_test[y_pred == 1]\n",
    "    wholeTestData = df.loc[df.index.intersection(X_test.index)]\n",
    "    wholeTestData.to_csv('../data/tree_results/' + yLabel + '.csv', index=False)\n",
    "\n",
    "    takenData = df.loc[df.index.intersection(xTaken.index)]\n",
    "\n",
    "    estimator = grid.best_estimator_\n",
    "    dump(grid, '../data/tree_models/' + yLabel + '.joblib')\n",
    "\n",
    "    print(f'Results {yLabel} mean of: {takenData.loc[:, yLabel].mean()}')"
   ],
   "metadata": {
    "collapsed": false,
    "ExecuteTime": {
     "end_time": "2025-05-23T17:05:36.649015Z",
     "start_time": "2025-05-23T17:05:15.524158Z"
    }
   },
   "id": "2ce8a965620dafd4",
   "execution_count": 7
  },
  {
   "cell_type": "code",
   "outputs": [
    {
     "data": {
      "text/plain": "<IPython.core.display.Markdown object>",
      "text/markdown": "**Results for key: alpha1Year**"
     },
     "metadata": {},
     "output_type": "display_data"
    },
    {
     "name": "stdout",
     "output_type": "stream",
     "text": [
      "data count: 6053\n",
      "data mean: 0.0300172769962029\n",
      "data median: -0.0031354597826141\n",
      "====TEST=====\n",
      "res count 3052\n",
      "res mean 0.15653675508716436\n",
      "res median 0.1198777801275849\n",
      "[[2269  788]\n",
      " [ 732 2264]]\n"
     ]
    },
    {
     "data": {
      "text/plain": "<IPython.core.display.Markdown object>",
      "text/markdown": "**diff: 0.12651947809096145**"
     },
     "metadata": {},
     "output_type": "display_data"
    },
    {
     "name": "stdout",
     "output_type": "stream",
     "text": [
      "-------------------------------------------------\n"
     ]
    },
    {
     "data": {
      "text/plain": "<IPython.core.display.Markdown object>",
      "text/markdown": "**Results for key: adjustedAlpha1Year**"
     },
     "metadata": {},
     "output_type": "display_data"
    },
    {
     "name": "stdout",
     "output_type": "stream",
     "text": [
      "data count: 6053\n",
      "data mean: 0.03069154232727888\n",
      "data median: -0.0027346138213903\n",
      "====TEST=====\n",
      "res count 3012\n",
      "res mean 0.1635819123795836\n",
      "res median 0.1229411614801334\n",
      "[[2277  766]\n",
      " [ 764 2246]]\n"
     ]
    },
    {
     "data": {
      "text/plain": "<IPython.core.display.Markdown object>",
      "text/markdown": "**diff: 0.13289037005230472**"
     },
     "metadata": {},
     "output_type": "display_data"
    },
    {
     "name": "stdout",
     "output_type": "stream",
     "text": [
      "-------------------------------------------------\n"
     ]
    },
    {
     "data": {
      "text/plain": "<IPython.core.display.Markdown object>",
      "text/markdown": "**Results for key: equalAlpha1Year**"
     },
     "metadata": {},
     "output_type": "display_data"
    },
    {
     "name": "stdout",
     "output_type": "stream",
     "text": [
      "data count: 6053\n",
      "data mean: -0.0005140143373880067\n",
      "data median: -0.0269341720292398\n",
      "====TEST=====\n",
      "res count 2827\n",
      "res mean 0.1441426871690846\n",
      "res median 0.1087162778017972\n",
      "[[2521  759]\n",
      " [ 705 2068]]\n"
     ]
    },
    {
     "data": {
      "text/plain": "<IPython.core.display.Markdown object>",
      "text/markdown": "**diff: 0.1446567015064726**"
     },
     "metadata": {},
     "output_type": "display_data"
    },
    {
     "name": "stdout",
     "output_type": "stream",
     "text": [
      "-------------------------------------------------\n"
     ]
    },
    {
     "data": {
      "text/plain": "<IPython.core.display.Markdown object>",
      "text/markdown": "**Results for key: equalAdjustedAlpha1Year**"
     },
     "metadata": {},
     "output_type": "display_data"
    },
    {
     "name": "stdout",
     "output_type": "stream",
     "text": [
      "data count: 6053\n",
      "data mean: 0.0022943754574641026\n",
      "data median: -0.0252829451284293\n",
      "====TEST=====\n",
      "res count 2813\n",
      "res mean 0.15035732547406913\n",
      "res median 0.1080186725528246\n",
      "[[2520  758]\n",
      " [ 720 2055]]\n"
     ]
    },
    {
     "data": {
      "text/plain": "<IPython.core.display.Markdown object>",
      "text/markdown": "**diff: 0.14806295001660502**"
     },
     "metadata": {},
     "output_type": "display_data"
    },
    {
     "name": "stdout",
     "output_type": "stream",
     "text": [
      "-------------------------------------------------\n"
     ]
    },
    {
     "data": {
      "text/plain": "<IPython.core.display.Markdown object>",
      "text/markdown": "**Results for key: alpha2Year**"
     },
     "metadata": {},
     "output_type": "display_data"
    },
    {
     "name": "stdout",
     "output_type": "stream",
     "text": [
      "data count: 6053\n",
      "data mean: 0.03438167051225602\n",
      "data median: -0.046537226661542\n",
      "====TEST=====\n",
      "res count 2767\n",
      "res mean 0.32320891221244263\n",
      "res median 0.1967748108634572\n",
      "[[2690  647]\n",
      " [ 596 2120]]\n"
     ]
    },
    {
     "data": {
      "text/plain": "<IPython.core.display.Markdown object>",
      "text/markdown": "**diff: 0.2888272417001866**"
     },
     "metadata": {},
     "output_type": "display_data"
    },
    {
     "name": "stdout",
     "output_type": "stream",
     "text": [
      "CAGR: 0.13526527371367547\n",
      "-------------------------------------------------\n"
     ]
    },
    {
     "data": {
      "text/plain": "<IPython.core.display.Markdown object>",
      "text/markdown": "**Results for key: adjustedAlpha2Year**"
     },
     "metadata": {},
     "output_type": "display_data"
    },
    {
     "name": "stdout",
     "output_type": "stream",
     "text": [
      "data count: 6053\n",
      "data mean: 0.0308540392764738\n",
      "data median: -0.0467539697115497\n",
      "====TEST=====\n",
      "res count 2749\n",
      "res mean 0.28812714479347945\n",
      "res median 0.1907788604227936\n",
      "[[2662  649]\n",
      " [ 642 2100]]\n"
     ]
    },
    {
     "data": {
      "text/plain": "<IPython.core.display.Markdown object>",
      "text/markdown": "**diff: 0.25727310551700566**"
     },
     "metadata": {},
     "output_type": "display_data"
    },
    {
     "name": "stdout",
     "output_type": "stream",
     "text": [
      "CAGR: 0.12128190278671913\n",
      "-------------------------------------------------\n"
     ]
    },
    {
     "data": {
      "text/plain": "<IPython.core.display.Markdown object>",
      "text/markdown": "**Results for key: equalAlpha2Year**"
     },
     "metadata": {},
     "output_type": "display_data"
    },
    {
     "name": "stdout",
     "output_type": "stream",
     "text": [
      "data count: 6053\n",
      "data mean: -0.006875623891206189\n",
      "data median: -0.0953112579061575\n",
      "====TEST=====\n",
      "res count 2448\n",
      "res mean 0.31628891587900254\n",
      "res median 0.19273643372549498\n",
      "[[3029  574]\n",
      " [ 576 1874]]\n"
     ]
    },
    {
     "data": {
      "text/plain": "<IPython.core.display.Markdown object>",
      "text/markdown": "**diff: 0.3231645397702087**"
     },
     "metadata": {},
     "output_type": "display_data"
    },
    {
     "name": "stdout",
     "output_type": "stream",
     "text": [
      "CAGR: 0.15028889404801649\n",
      "-------------------------------------------------\n"
     ]
    },
    {
     "data": {
      "text/plain": "<IPython.core.display.Markdown object>",
      "text/markdown": "**Results for key: equalAdjustedAlpha2Year**"
     },
     "metadata": {},
     "output_type": "display_data"
    },
    {
     "name": "stdout",
     "output_type": "stream",
     "text": [
      "data count: 6053\n",
      "data mean: 0.002947332607081462\n",
      "data median: -0.0894219371820089\n",
      "====TEST=====\n",
      "res count 2438\n",
      "res mean 0.3211670876589014\n",
      "res median 0.1774244201179481\n",
      "[[3003  596]\n",
      " [ 612 1842]]\n"
     ]
    },
    {
     "data": {
      "text/plain": "<IPython.core.display.Markdown object>",
      "text/markdown": "**diff: 0.31821975505181993**"
     },
     "metadata": {},
     "output_type": "display_data"
    },
    {
     "name": "stdout",
     "output_type": "stream",
     "text": [
      "CAGR: 0.14813751574095857\n",
      "-------------------------------------------------\n"
     ]
    }
   ],
   "source": [
    "for label in yAlpha:\n",
    "    model = load('../data/tree_models/' + label + '.joblib')\n",
    "    testedData = pd.read_csv('../data/tree_results/' + label + '.csv')\n",
    "\n",
    "    X = testedData[ratioKeys + relativeRatioKeys]\n",
    "    y = np.where(testedData[label] <= 0, 0, 1)\n",
    "    display(Markdown(f'**Results for key: {label}**'))\n",
    "    print(f'data count: {testedData[label].count()}')\n",
    "    print(f'data mean: {testedData[label].mean()}')\n",
    "    print(f'data median: {testedData[label].median()}')\n",
    "\n",
    "    print('====TEST=====')\n",
    "    y_pred = model.predict(X)\n",
    "    xTaken = X[y_pred == 1]\n",
    "    results = testedData.loc[testedData.index.intersection(xTaken.index)]\n",
    "\n",
    "    print(f'res count {results[label].count()}')\n",
    "    print(f'res mean {results[label].mean()}')\n",
    "    print(f'res median {results[label].median()}')\n",
    "\n",
    "    print(confusion_matrix(y, y_pred))\n",
    "\n",
    "    display(Markdown(f'**diff: {results[label].mean() - testedData[label].mean()}**'))\n",
    "    if '2' in label:\n",
    "        cagrToBenchmark = sqrt(results[label].mean() - testedData[label].mean() + 1) - 1\n",
    "        print(f'CAGR: {cagrToBenchmark}')\n",
    "    print('-------------------------------------------------')\n",
    "\n",
    "# TODO: iterate over y cutoffs. Train each cutoff with gridCV. Train linearSVC first, and check how faster it is. \n",
    "# TODO: maybe use (Linear)SVR - regression, since we have linear regression"
   ],
   "metadata": {
    "collapsed": false,
    "ExecuteTime": {
     "end_time": "2025-05-23T17:05:37.234637Z",
     "start_time": "2025-05-23T17:05:36.651037Z"
    }
   },
   "id": "7170db2f46bb8e7b",
   "execution_count": 8
  }
 ],
 "metadata": {
  "kernelspec": {
   "display_name": "Python 3",
   "language": "python",
   "name": "python3"
  },
  "language_info": {
   "codemirror_mode": {
    "name": "ipython",
    "version": 2
   },
   "file_extension": ".py",
   "mimetype": "text/x-python",
   "name": "python",
   "nbconvert_exporter": "python",
   "pygments_lexer": "ipython2",
   "version": "2.7.6"
  }
 },
 "nbformat": 4,
 "nbformat_minor": 5
}
