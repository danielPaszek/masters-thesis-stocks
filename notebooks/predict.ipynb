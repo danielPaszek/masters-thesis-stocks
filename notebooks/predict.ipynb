{
 "cells": [
  {
   "cell_type": "code",
   "execution_count": 7,
   "id": "initial_id",
   "metadata": {
    "collapsed": true,
    "ExecuteTime": {
     "end_time": "2025-05-10T12:11:11.426232Z",
     "start_time": "2025-05-10T12:11:11.420678Z"
    }
   },
   "outputs": [],
   "source": [
    "import pandas as pd\n",
    "import numpy as np\n",
    "import os\n",
    "from sklearn.preprocessing import StandardScaler\n",
    "from sklearn.model_selection import train_test_split, GridSearchCV\n",
    "from sklearn.svm import SVC\n",
    "from sklearn.metrics import classification_report\n",
    "from sklearn.pipeline import Pipeline\n",
    "\n",
    "\n",
    "ratioKeys = ['psRatio', 'peRatio', 'priceToBook', 'evToEbitda', 'evToEbit', 'priceToFreeCashFlow', 'evToSales', 'evToGrossProfit', 'priceToGrossProfit']\n",
    "yKeys = ['yAdjustedPriceSpinoffExcl1Year', 'yAdjustedPrice1Year', 'yPrice1Year']\n",
    "y2Keys = ['yAdjustedPriceSpinoffExcl2Year', 'yAdjustedPrice2Year', 'yPrice2Year']\n",
    "yAlpha = ['alpha1Year','adjustedAlpha1Year','equalAlpha1Year','equalAdjustedAlpha1Year','alpha2Year','adjustedAlpha2Year','equalAlpha2Year','equalAdjustedAlpha2Year']\n",
    "\n",
    "numericalKeys = ratioKeys + yKeys + y2Keys\n",
    "relativeRatioKeys = [x + '_relative' for x in ratioKeys]"
   ]
  },
  {
   "cell_type": "code",
   "outputs": [
    {
     "name": "stdout",
     "output_type": "stream",
     "text": [
      "Fitting 3 folds for each of 12 candidates, totalling 36 fits\n",
      "[CV] END ......svc__C=0.1, svc__gamma=scale, svc__kernel=rbf; total time=  24.6s\n",
      "[CV] END ......svc__C=0.1, svc__gamma=scale, svc__kernel=rbf; total time=  24.4s\n",
      "[CV] END ......svc__C=0.1, svc__gamma=scale, svc__kernel=rbf; total time=  23.8s\n",
      "[CV] END ...svc__C=0.1, svc__gamma=scale, svc__kernel=linear; total time=  11.5s\n",
      "[CV] END ...svc__C=0.1, svc__gamma=scale, svc__kernel=linear; total time=  11.2s\n",
      "[CV] END ...svc__C=0.1, svc__gamma=scale, svc__kernel=linear; total time=  11.1s\n",
      "[CV] END .......svc__C=0.1, svc__gamma=auto, svc__kernel=rbf; total time=  24.9s\n",
      "[CV] END .......svc__C=0.1, svc__gamma=auto, svc__kernel=rbf; total time=  24.1s\n",
      "[CV] END .......svc__C=0.1, svc__gamma=auto, svc__kernel=rbf; total time=  24.0s\n",
      "[CV] END ....svc__C=0.1, svc__gamma=auto, svc__kernel=linear; total time=  11.5s\n",
      "[CV] END ....svc__C=0.1, svc__gamma=auto, svc__kernel=linear; total time=  11.2s\n",
      "[CV] END ....svc__C=0.1, svc__gamma=auto, svc__kernel=linear; total time=  11.2s\n",
      "[CV] END ........svc__C=1, svc__gamma=scale, svc__kernel=rbf; total time=  23.1s\n",
      "[CV] END ........svc__C=1, svc__gamma=scale, svc__kernel=rbf; total time=  23.7s\n",
      "[CV] END ........svc__C=1, svc__gamma=scale, svc__kernel=rbf; total time=  23.3s\n",
      "[CV] END .....svc__C=1, svc__gamma=scale, svc__kernel=linear; total time=  15.6s\n",
      "[CV] END .....svc__C=1, svc__gamma=scale, svc__kernel=linear; total time=  15.2s\n",
      "[CV] END .....svc__C=1, svc__gamma=scale, svc__kernel=linear; total time=  14.8s\n",
      "[CV] END .........svc__C=1, svc__gamma=auto, svc__kernel=rbf; total time=  23.3s\n",
      "[CV] END .........svc__C=1, svc__gamma=auto, svc__kernel=rbf; total time=  23.5s\n",
      "[CV] END .........svc__C=1, svc__gamma=auto, svc__kernel=rbf; total time=  24.3s\n",
      "[CV] END ......svc__C=1, svc__gamma=auto, svc__kernel=linear; total time=  15.2s\n",
      "[CV] END ......svc__C=1, svc__gamma=auto, svc__kernel=linear; total time=  15.8s\n",
      "[CV] END ......svc__C=1, svc__gamma=auto, svc__kernel=linear; total time=  14.8s\n",
      "[CV] END .......svc__C=10, svc__gamma=scale, svc__kernel=rbf; total time=  24.4s\n",
      "[CV] END .......svc__C=10, svc__gamma=scale, svc__kernel=rbf; total time=  24.4s\n",
      "[CV] END .......svc__C=10, svc__gamma=scale, svc__kernel=rbf; total time=  24.3s\n",
      "[CV] END ....svc__C=10, svc__gamma=scale, svc__kernel=linear; total time=  42.5s\n",
      "[CV] END ....svc__C=10, svc__gamma=scale, svc__kernel=linear; total time=  42.6s\n",
      "[CV] END ....svc__C=10, svc__gamma=scale, svc__kernel=linear; total time=  40.4s\n",
      "[CV] END ........svc__C=10, svc__gamma=auto, svc__kernel=rbf; total time=  23.6s\n",
      "[CV] END ........svc__C=10, svc__gamma=auto, svc__kernel=rbf; total time=  24.0s\n",
      "[CV] END ........svc__C=10, svc__gamma=auto, svc__kernel=rbf; total time=  24.3s\n",
      "[CV] END .....svc__C=10, svc__gamma=auto, svc__kernel=linear; total time=  43.7s\n",
      "[CV] END .....svc__C=10, svc__gamma=auto, svc__kernel=linear; total time=  43.4s\n",
      "[CV] END .....svc__C=10, svc__gamma=auto, svc__kernel=linear; total time=  44.9s\n",
      "Best parameters: {'svc__C': 10, 'svc__gamma': 'scale', 'svc__kernel': 'rbf'}\n",
      "Classification Report:\n",
      "               precision    recall  f1-score   support\n",
      "\n",
      "           0       0.63      0.56      0.59      3081\n",
      "           1       0.59      0.65      0.62      2972\n",
      "\n",
      "    accuracy                           0.61      6053\n",
      "   macro avg       0.61      0.61      0.61      6053\n",
      "weighted avg       0.61      0.61      0.61      6053\n"
     ]
    }
   ],
   "source": [
    "df = pd.read_csv('../data/combined_inner.csv')\n",
    "X = df[ratioKeys + relativeRatioKeys]\n",
    "# yLabels = yKeys + y2Keys + yAlpha\n",
    "\n",
    "for yLabel in yAlpha:\n",
    "    yContinuous = df[yLabel]\n",
    "    # TODO: adjust/test cut off\n",
    "    y = np.where(yContinuous <= 0, 0, 1)\n",
    "    \n",
    "    X_train, X_test, y_train, y_test = train_test_split(X, y, test_size=0.2, random_state=1)\n",
    "    pipeline = Pipeline([\n",
    "        ('scaler', StandardScaler()), \n",
    "        ('svc', SVC()) \n",
    "    ])\n",
    "    param_grid = {\n",
    "    'svc__C': [0.1, 1, 10],\n",
    "    'svc__gamma': ['scale', 'auto'],\n",
    "    'svc__kernel': ['rbf', 'linear']\n",
    "    }\n",
    "\n",
    "    grid = GridSearchCV(pipeline, param_grid, cv=3, verbose=2)\n",
    "    grid.fit(X_train, y_train)\n",
    "    \n",
    "    y_pred = grid.predict(X_test)\n",
    "    print(\"Best parameters:\", grid.best_params_)\n",
    "    print(\"Classification Report:\\n\", classification_report(y_test, y_pred))\n",
    "    # TODO: Do I train this for each y column?\n",
    "    break"
   ],
   "metadata": {
    "collapsed": false,
    "ExecuteTime": {
     "end_time": "2025-05-10T12:26:07.481976Z",
     "start_time": "2025-05-10T12:11:11.428458Z"
    }
   },
   "id": "72fe6ac29c7b8c26",
   "execution_count": 8
  },
  {
   "cell_type": "code",
   "outputs": [
    {
     "name": "stdout",
     "output_type": "stream",
     "text": [
      "0: 15211, %: 0.5026601896830905\n",
      "1: 15050\n"
     ]
    }
   ],
   "source": [
    "y = np.where(df['adjustedAlpha1Year'] <= 0, 0, 1)\n",
    "print('0: ' + str(len(y[y==0])) + ', %: ' + str(len(y[y==0])/len(y)))\n",
    "print('1: ' + str(len(y[y==1])))"
   ],
   "metadata": {
    "collapsed": false,
    "ExecuteTime": {
     "end_time": "2025-05-10T12:38:19.377245Z",
     "start_time": "2025-05-10T12:38:19.359086Z"
    }
   },
   "id": "237c749a217927b",
   "execution_count": 13
  },
  {
   "cell_type": "code",
   "outputs": [],
   "source": [],
   "metadata": {
    "collapsed": false
   },
   "id": "ac8e0f8558152b17"
  }
 ],
 "metadata": {
  "kernelspec": {
   "display_name": "Python 3",
   "language": "python",
   "name": "python3"
  },
  "language_info": {
   "codemirror_mode": {
    "name": "ipython",
    "version": 2
   },
   "file_extension": ".py",
   "mimetype": "text/x-python",
   "name": "python",
   "nbconvert_exporter": "python",
   "pygments_lexer": "ipython2",
   "version": "2.7.6"
  }
 },
 "nbformat": 4,
 "nbformat_minor": 5
}
