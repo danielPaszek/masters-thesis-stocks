{
 "cells": [
  {
   "cell_type": "code",
   "execution_count": 13,
   "id": "initial_id",
   "metadata": {
    "collapsed": true,
    "ExecuteTime": {
     "end_time": "2025-04-19T12:16:48.411457Z",
     "start_time": "2025-04-19T12:16:48.405645Z"
    }
   },
   "outputs": [],
   "source": [
    "import pandas as pd\n",
    "import numpy as np\n",
    "import os\n",
    "from sklearn.preprocessing import StandardScaler\n",
    "from sklearn.model_selection import train_test_split, GridSearchCV\n",
    "from sklearn.svm import SVC\n",
    "from sklearn.metrics import classification_report\n",
    "\n",
    "\n",
    "ratioKeys = ['psRatio', 'peRatio', 'priceToBook', 'evToEbitda', 'evToEbit', 'priceToFreeCashFlow', 'evToSales', 'evToGrossProfit', 'priceToGrossProfit']\n",
    "yKeys = ['yAdjustedPriceSpinoffExcl1Year', 'yAdjustedPrice1Year', 'yPrice1Year']\n",
    "y2Keys = ['yAdjustedPriceSpinoffExcl2Year', 'yAdjustedPrice2Year', 'yPrice2Year']\n",
    "yAlpha = ['alpha1Year','adjustedAlpha1Year','equalAlpha1Year','equalAdjustedAlpha1Year','alpha2Year','adjustedAlpha2Year','equalAlpha2Year','equalAdjustedAlpha2Year']\n",
    "\n",
    "numericalKeys = ratioKeys + yKeys + y2Keys\n",
    "relativeRatioKeys = [x + '_relative' for x in ratioKeys]"
   ]
  },
  {
   "cell_type": "code",
   "outputs": [
    {
     "name": "stdout",
     "output_type": "stream",
     "text": [
      "Best parameters: {'C': 10, 'gamma': 'auto', 'kernel': 'rbf'}\n",
      "Classification Report:\n",
      "               precision    recall  f1-score   support\n",
      "\n",
      "           0       0.63      0.56      0.59      3081\n",
      "           1       0.59      0.65      0.62      2972\n",
      "\n",
      "    accuracy                           0.61      6053\n",
      "   macro avg       0.61      0.61      0.61      6053\n",
      "weighted avg       0.61      0.61      0.61      6053\n"
     ]
    }
   ],
   "source": [
    "df = pd.read_csv('../data/combined_inner.csv')\n",
    "X = df[ratioKeys + relativeRatioKeys]\n",
    "# yLabels = yKeys + y2Keys + yAlpha\n",
    "\n",
    "for yLabel in yAlpha:\n",
    "    yContinuous = df[yLabel]\n",
    "    y = np.where(yContinuous <= 0, 0, 1)\n",
    "    \n",
    "    X_train, X_test, y_train, y_test = train_test_split(X, y, test_size=0.2, random_state=1)\n",
    "    scaler = StandardScaler()\n",
    "    scaler.fit(X_train)\n",
    "    X_train = scaler.transform(X_train)\n",
    "    X_test = scaler.transform(X_test)\n",
    "    param_grid = {\n",
    "    'C': [0.1, 1, 10],\n",
    "    'gamma': ['scale', 'auto'],\n",
    "    'kernel': ['rbf', 'linear']\n",
    "    }\n",
    "\n",
    "    grid = GridSearchCV(SVC(), param_grid, cv=3)\n",
    "    grid.fit(X_train, y_train)\n",
    "    \n",
    "    y_pred = grid.predict(X_test)\n",
    "    print(\"Best parameters:\", grid.best_params_)\n",
    "    print(\"Classification Report:\\n\", classification_report(y_test, y_pred))\n",
    "    # TODO: Do I train this for each y column?\n",
    "    break"
   ],
   "metadata": {
    "collapsed": false,
    "ExecuteTime": {
     "end_time": "2025-04-19T12:31:45.794337Z",
     "start_time": "2025-04-19T12:16:48.420217Z"
    }
   },
   "id": "72fe6ac29c7b8c26",
   "execution_count": 14
  },
  {
   "cell_type": "code",
   "outputs": [],
   "source": [],
   "metadata": {
    "collapsed": false,
    "ExecuteTime": {
     "end_time": "2025-04-19T12:31:45.799005Z",
     "start_time": "2025-04-19T12:31:45.796347Z"
    }
   },
   "id": "237c749a217927b",
   "execution_count": 14
  }
 ],
 "metadata": {
  "kernelspec": {
   "display_name": "Python 3",
   "language": "python",
   "name": "python3"
  },
  "language_info": {
   "codemirror_mode": {
    "name": "ipython",
    "version": 2
   },
   "file_extension": ".py",
   "mimetype": "text/x-python",
   "name": "python",
   "nbconvert_exporter": "python",
   "pygments_lexer": "ipython2",
   "version": "2.7.6"
  }
 },
 "nbformat": 4,
 "nbformat_minor": 5
}
