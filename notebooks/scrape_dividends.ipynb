{
 "cells": [
  {
   "cell_type": "code",
   "execution_count": 7,
   "id": "initial_id",
   "metadata": {
    "collapsed": true,
    "ExecuteTime": {
     "end_time": "2025-02-21T18:43:27.555446Z",
     "start_time": "2025-02-21T18:43:27.550648Z"
    }
   },
   "outputs": [],
   "source": [
    "from selenium import webdriver\n",
    "from selenium.webdriver.common.by import By\n",
    "from time import sleep\n",
    "import pandas as pd\n",
    "import random\n"
   ]
  },
  {
   "cell_type": "code",
   "outputs": [],
   "source": [
    "exchange = {\n",
    "    'NASDAQ': 'NasdaqGS',\n",
    "    'New York Stock Exchange Inc.': 'NYSE'\n",
    "}"
   ],
   "metadata": {
    "collapsed": false,
    "ExecuteTime": {
     "end_time": "2025-02-21T18:43:27.571679Z",
     "start_time": "2025-02-21T18:43:27.557600Z"
    }
   },
   "id": "8ab81a557fc54025",
   "execution_count": 8
  },
  {
   "cell_type": "code",
   "outputs": [
    {
     "name": "stdout",
     "output_type": "stream",
     "text": [
      "https://workers.finchat.io/company/NasdaqGS-WBA/market-data\n",
      "0\n",
      "https://workers.finchat.io/company/NYSE-BFB/market-data\n",
      "1\n",
      "https://workers.finchat.io/company/NasdaqGS-PARA/market-data\n",
      "2\n",
      "https://workers.finchat.io/company/NasdaqGS-FOX/market-data\n",
      "3\n",
      "https://workers.finchat.io/company/NYSE-FMC/market-data\n",
      "4\n",
      "https://workers.finchat.io/company/NYSE-BEN/market-data\n",
      "5\n",
      "https://workers.finchat.io/company/NYSE-MHK/market-data\n",
      "6\n",
      "https://workers.finchat.io/company/NasdaqGS-NWS/market-data\n",
      "7\n"
     ]
    }
   ],
   "source": [
    "driver = webdriver.Chrome()\n",
    "search_url = 'https://workers.finchat.io/company/$$$-&&&/market-data'\n",
    "\n",
    "df = pd.read_csv('../data/sp500-left.csv')\n",
    "\n",
    "for index, row in df.iterrows():\n",
    "    url = search_url.replace('$$$', exchange[row['Exchange']]).replace('&&&', row['Ticker'])\n",
    "    print(url)\n",
    "    driver.get(url)\n",
    "    sleep(random.randint(2,7))\n",
    "    body = driver.find_element(By.XPATH, '//body/pre').get_attribute('innerHTML')\n",
    "    with open('../data/market-data/' + row['Ticker'] + '.json', 'w', encoding=\"utf-8\") as f:\n",
    "        f.write(body)\n",
    "    sleep(random.randint(0,4))\n",
    "    print(index)\n"
   ],
   "metadata": {
    "collapsed": false,
    "ExecuteTime": {
     "end_time": "2025-02-21T18:44:29.682866Z",
     "start_time": "2025-02-21T18:43:27.572760Z"
    }
   },
   "id": "6cfbe57cac9be4df",
   "execution_count": 9
  }
 ],
 "metadata": {
  "kernelspec": {
   "display_name": "Python 3",
   "language": "python",
   "name": "python3"
  },
  "language_info": {
   "codemirror_mode": {
    "name": "ipython",
    "version": 2
   },
   "file_extension": ".py",
   "mimetype": "text/x-python",
   "name": "python",
   "nbconvert_exporter": "python",
   "pygments_lexer": "ipython2",
   "version": "2.7.6"
  }
 },
 "nbformat": 4,
 "nbformat_minor": 5
}
