{
 "cells": [
  {
   "cell_type": "code",
   "outputs": [],
   "source": [
    "import pandas as pd\n",
    "import numpy as np\n",
    "import json\n",
    "from datetime import datetime\n",
    "import os\n",
    "import seaborn as sns\n",
    "import statistics\n",
    "import matplotlib.pyplot as plt\n",
    "from sklearn.preprocessing import normalize\n",
    "from utils.generateFinalRow import generateFinalRows\n",
    "# from utils.generateRelativeRow import getRelativeRows\n",
    "\n",
    "\n",
    "ratioKeys = ['psRatio', 'peRatio', 'priceToBook', 'evToEbitda', 'evToEbit', 'priceToFreeCashFlow', 'evToSales', 'evToGrossProfit', 'priceToGrossProfit']\n",
    "yKeys = ['yAdjustedPriceSpinoffExcl1Year', 'yAdjustedPrice1Year', 'yPrice1Year']\n",
    "y2Keys = ['yAdjustedPriceSpinoffExcl2Year', 'yAdjustedPrice2Year', 'yPrice2Year']\n",
    "numericalKeys = ratioKeys + yKeys + y2Keys\n",
    "\n",
    "resultsPath = '../data/results-no-alpha/'\n",
    "# TODO: NOT SURE IF THIS IS DEPRECATED"
   ],
   "metadata": {
    "collapsed": false,
    "ExecuteTime": {
     "end_time": "2025-05-24T15:29:07.212142Z",
     "start_time": "2025-05-24T15:29:06.743455Z"
    }
   },
   "id": "91fed614965dbb39",
   "execution_count": 1
  },
  {
   "cell_type": "code",
   "outputs": [],
   "source": [
    "fileNames = os.listdir('../data/results-no-alpha')\n",
    "\n",
    "allCompanies = []\n",
    "for fileName in fileNames:\n",
    "    with open('../data/results-no-alpha/' + fileName) as json_data:\n",
    "        data = json.load(json_data)\n",
    "        allCompanies.append(data)\n",
    "\n",
    "spyData = {}\n",
    "\n",
    "for year in range(2015, 2026):\n",
    "    for month in range(1,13):\n",
    "        currentAllData = pd.DataFrame()\n",
    "        i = 0\n",
    "        for company in allCompanies:\n",
    "            yearData = company.get(year, 0)\n",
    "            if yearData:\n",
    "                monthData = yearData.get(month, 0)\n",
    "                if monthData:\n",
    "                    currCompany = pd.DataFrame({\n",
    "                        'price': monthData['price'],\n",
    "                        'adjustedTotalPrice': monthData['adjustedTotalPrice'],\n",
    "                        'adjustedTotalPriceSpinoffExcl': monthData['adjustedTotalPriceSpinoffExcl']\n",
    "                    }, index=i)\n",
    "                    i += 1\n",
    "                    currentAllData = pd.concat([currentAllData, currCompany])\n",
    "        stats = {}\n",
    "        for key in ['price', 'adjustedTotalPrice', 'adjustedTotalPriceSpinoffExcl']:\n",
    "            stats[key] = {\n",
    "                'mean': currentAllData.loc[:, key].mean(),\n",
    "                'median': currentAllData.loc[:, key].median()\n",
    "            }\n",
    "        spyData[str(month) + '-' + str(year)] = stats\n"
   ],
   "metadata": {
    "collapsed": false
   },
   "id": "5cab4600c115f360",
   "execution_count": null
  },
  {
   "cell_type": "code",
   "outputs": [
    {
     "name": "stderr",
     "output_type": "stream",
     "text": [
      "F:\\programowanie\\studia\\magisterka\\sec_scrapper2\\finchat\\utils\\generateFinalRow.py:12: FutureWarning: The behavior of DataFrame concatenation with empty or all-NA entries is deprecated. In a future version, this will no longer exclude empty or all-NA columns when determining the result dtypes. To retain the old behavior, exclude the relevant entries before the concat operation.\n",
      "  df = pd.concat([df, toAdd])\n",
      "F:\\programowanie\\studia\\magisterka\\sec_scrapper2\\finchat\\utils\\generateFinalRow.py:12: FutureWarning: The behavior of DataFrame concatenation with empty or all-NA entries is deprecated. In a future version, this will no longer exclude empty or all-NA columns when determining the result dtypes. To retain the old behavior, exclude the relevant entries before the concat operation.\n",
      "  df = pd.concat([df, toAdd])\n",
      "F:\\programowanie\\studia\\magisterka\\sec_scrapper2\\finchat\\utils\\generateFinalRow.py:12: FutureWarning: The behavior of DataFrame concatenation with empty or all-NA entries is deprecated. In a future version, this will no longer exclude empty or all-NA columns when determining the result dtypes. To retain the old behavior, exclude the relevant entries before the concat operation.\n",
      "  df = pd.concat([df, toAdd])\n",
      "F:\\programowanie\\studia\\magisterka\\sec_scrapper2\\finchat\\utils\\generateFinalRow.py:12: FutureWarning: The behavior of DataFrame concatenation with empty or all-NA entries is deprecated. In a future version, this will no longer exclude empty or all-NA columns when determining the result dtypes. To retain the old behavior, exclude the relevant entries before the concat operation.\n",
      "  df = pd.concat([df, toAdd])\n",
      "F:\\programowanie\\studia\\magisterka\\sec_scrapper2\\finchat\\utils\\generateFinalRow.py:12: FutureWarning: The behavior of DataFrame concatenation with empty or all-NA entries is deprecated. In a future version, this will no longer exclude empty or all-NA columns when determining the result dtypes. To retain the old behavior, exclude the relevant entries before the concat operation.\n",
      "  df = pd.concat([df, toAdd])\n",
      "F:\\programowanie\\studia\\magisterka\\sec_scrapper2\\finchat\\utils\\generateFinalRow.py:12: FutureWarning: The behavior of DataFrame concatenation with empty or all-NA entries is deprecated. In a future version, this will no longer exclude empty or all-NA columns when determining the result dtypes. To retain the old behavior, exclude the relevant entries before the concat operation.\n",
      "  df = pd.concat([df, toAdd])\n",
      "F:\\programowanie\\studia\\magisterka\\sec_scrapper2\\finchat\\utils\\generateFinalRow.py:12: FutureWarning: The behavior of DataFrame concatenation with empty or all-NA entries is deprecated. In a future version, this will no longer exclude empty or all-NA columns when determining the result dtypes. To retain the old behavior, exclude the relevant entries before the concat operation.\n",
      "  df = pd.concat([df, toAdd])\n",
      "F:\\programowanie\\studia\\magisterka\\sec_scrapper2\\finchat\\utils\\generateFinalRow.py:12: FutureWarning: The behavior of DataFrame concatenation with empty or all-NA entries is deprecated. In a future version, this will no longer exclude empty or all-NA columns when determining the result dtypes. To retain the old behavior, exclude the relevant entries before the concat operation.\n",
      "  df = pd.concat([df, toAdd])\n",
      "F:\\programowanie\\studia\\magisterka\\sec_scrapper2\\finchat\\utils\\generateFinalRow.py:12: FutureWarning: The behavior of DataFrame concatenation with empty or all-NA entries is deprecated. In a future version, this will no longer exclude empty or all-NA columns when determining the result dtypes. To retain the old behavior, exclude the relevant entries before the concat operation.\n",
      "  df = pd.concat([df, toAdd])\n",
      "F:\\programowanie\\studia\\magisterka\\sec_scrapper2\\finchat\\utils\\generateFinalRow.py:12: FutureWarning: The behavior of DataFrame concatenation with empty or all-NA entries is deprecated. In a future version, this will no longer exclude empty or all-NA columns when determining the result dtypes. To retain the old behavior, exclude the relevant entries before the concat operation.\n",
      "  df = pd.concat([df, toAdd])\n",
      "F:\\programowanie\\studia\\magisterka\\sec_scrapper2\\finchat\\utils\\generateFinalRow.py:12: FutureWarning: The behavior of DataFrame concatenation with empty or all-NA entries is deprecated. In a future version, this will no longer exclude empty or all-NA columns when determining the result dtypes. To retain the old behavior, exclude the relevant entries before the concat operation.\n",
      "  df = pd.concat([df, toAdd])\n",
      "F:\\programowanie\\studia\\magisterka\\sec_scrapper2\\finchat\\utils\\generateFinalRow.py:12: FutureWarning: The behavior of DataFrame concatenation with empty or all-NA entries is deprecated. In a future version, this will no longer exclude empty or all-NA columns when determining the result dtypes. To retain the old behavior, exclude the relevant entries before the concat operation.\n",
      "  df = pd.concat([df, toAdd])\n",
      "F:\\programowanie\\studia\\magisterka\\sec_scrapper2\\finchat\\utils\\generateFinalRow.py:12: FutureWarning: The behavior of DataFrame concatenation with empty or all-NA entries is deprecated. In a future version, this will no longer exclude empty or all-NA columns when determining the result dtypes. To retain the old behavior, exclude the relevant entries before the concat operation.\n",
      "  df = pd.concat([df, toAdd])\n",
      "F:\\programowanie\\studia\\magisterka\\sec_scrapper2\\finchat\\utils\\generateFinalRow.py:12: FutureWarning: The behavior of DataFrame concatenation with empty or all-NA entries is deprecated. In a future version, this will no longer exclude empty or all-NA columns when determining the result dtypes. To retain the old behavior, exclude the relevant entries before the concat operation.\n",
      "  df = pd.concat([df, toAdd])\n",
      "F:\\programowanie\\studia\\magisterka\\sec_scrapper2\\finchat\\utils\\generateFinalRow.py:12: FutureWarning: The behavior of DataFrame concatenation with empty or all-NA entries is deprecated. In a future version, this will no longer exclude empty or all-NA columns when determining the result dtypes. To retain the old behavior, exclude the relevant entries before the concat operation.\n",
      "  df = pd.concat([df, toAdd])\n",
      "F:\\programowanie\\studia\\magisterka\\sec_scrapper2\\finchat\\utils\\generateFinalRow.py:12: FutureWarning: The behavior of DataFrame concatenation with empty or all-NA entries is deprecated. In a future version, this will no longer exclude empty or all-NA columns when determining the result dtypes. To retain the old behavior, exclude the relevant entries before the concat operation.\n",
      "  df = pd.concat([df, toAdd])\n",
      "F:\\programowanie\\studia\\magisterka\\sec_scrapper2\\finchat\\utils\\generateFinalRow.py:12: FutureWarning: The behavior of DataFrame concatenation with empty or all-NA entries is deprecated. In a future version, this will no longer exclude empty or all-NA columns when determining the result dtypes. To retain the old behavior, exclude the relevant entries before the concat operation.\n",
      "  df = pd.concat([df, toAdd])\n",
      "F:\\programowanie\\studia\\magisterka\\sec_scrapper2\\finchat\\utils\\generateFinalRow.py:12: FutureWarning: The behavior of DataFrame concatenation with empty or all-NA entries is deprecated. In a future version, this will no longer exclude empty or all-NA columns when determining the result dtypes. To retain the old behavior, exclude the relevant entries before the concat operation.\n",
      "  df = pd.concat([df, toAdd])\n",
      "F:\\programowanie\\studia\\magisterka\\sec_scrapper2\\finchat\\utils\\generateFinalRow.py:12: FutureWarning: The behavior of DataFrame concatenation with empty or all-NA entries is deprecated. In a future version, this will no longer exclude empty or all-NA columns when determining the result dtypes. To retain the old behavior, exclude the relevant entries before the concat operation.\n",
      "  df = pd.concat([df, toAdd])\n",
      "F:\\programowanie\\studia\\magisterka\\sec_scrapper2\\finchat\\utils\\generateFinalRow.py:12: FutureWarning: The behavior of DataFrame concatenation with empty or all-NA entries is deprecated. In a future version, this will no longer exclude empty or all-NA columns when determining the result dtypes. To retain the old behavior, exclude the relevant entries before the concat operation.\n",
      "  df = pd.concat([df, toAdd])\n",
      "F:\\programowanie\\studia\\magisterka\\sec_scrapper2\\finchat\\utils\\generateFinalRow.py:12: FutureWarning: The behavior of DataFrame concatenation with empty or all-NA entries is deprecated. In a future version, this will no longer exclude empty or all-NA columns when determining the result dtypes. To retain the old behavior, exclude the relevant entries before the concat operation.\n",
      "  df = pd.concat([df, toAdd])\n",
      "F:\\programowanie\\studia\\magisterka\\sec_scrapper2\\finchat\\utils\\generateFinalRow.py:12: FutureWarning: The behavior of DataFrame concatenation with empty or all-NA entries is deprecated. In a future version, this will no longer exclude empty or all-NA columns when determining the result dtypes. To retain the old behavior, exclude the relevant entries before the concat operation.\n",
      "  df = pd.concat([df, toAdd])\n",
      "F:\\programowanie\\studia\\magisterka\\sec_scrapper2\\finchat\\utils\\generateFinalRow.py:12: FutureWarning: The behavior of DataFrame concatenation with empty or all-NA entries is deprecated. In a future version, this will no longer exclude empty or all-NA columns when determining the result dtypes. To retain the old behavior, exclude the relevant entries before the concat operation.\n",
      "  df = pd.concat([df, toAdd])\n",
      "F:\\programowanie\\studia\\magisterka\\sec_scrapper2\\finchat\\utils\\generateFinalRow.py:12: FutureWarning: The behavior of DataFrame concatenation with empty or all-NA entries is deprecated. In a future version, this will no longer exclude empty or all-NA columns when determining the result dtypes. To retain the old behavior, exclude the relevant entries before the concat operation.\n",
      "  df = pd.concat([df, toAdd])\n",
      "F:\\programowanie\\studia\\magisterka\\sec_scrapper2\\finchat\\utils\\generateFinalRow.py:12: FutureWarning: The behavior of DataFrame concatenation with empty or all-NA entries is deprecated. In a future version, this will no longer exclude empty or all-NA columns when determining the result dtypes. To retain the old behavior, exclude the relevant entries before the concat operation.\n",
      "  df = pd.concat([df, toAdd])\n",
      "F:\\programowanie\\studia\\magisterka\\sec_scrapper2\\finchat\\utils\\generateFinalRow.py:12: FutureWarning: The behavior of DataFrame concatenation with empty or all-NA entries is deprecated. In a future version, this will no longer exclude empty or all-NA columns when determining the result dtypes. To retain the old behavior, exclude the relevant entries before the concat operation.\n",
      "  df = pd.concat([df, toAdd])\n",
      "F:\\programowanie\\studia\\magisterka\\sec_scrapper2\\finchat\\utils\\generateFinalRow.py:12: FutureWarning: The behavior of DataFrame concatenation with empty or all-NA entries is deprecated. In a future version, this will no longer exclude empty or all-NA columns when determining the result dtypes. To retain the old behavior, exclude the relevant entries before the concat operation.\n",
      "  df = pd.concat([df, toAdd])\n",
      "F:\\programowanie\\studia\\magisterka\\sec_scrapper2\\finchat\\utils\\generateFinalRow.py:12: FutureWarning: The behavior of DataFrame concatenation with empty or all-NA entries is deprecated. In a future version, this will no longer exclude empty or all-NA columns when determining the result dtypes. To retain the old behavior, exclude the relevant entries before the concat operation.\n",
      "  df = pd.concat([df, toAdd])\n",
      "F:\\programowanie\\studia\\magisterka\\sec_scrapper2\\finchat\\utils\\generateFinalRow.py:12: FutureWarning: The behavior of DataFrame concatenation with empty or all-NA entries is deprecated. In a future version, this will no longer exclude empty or all-NA columns when determining the result dtypes. To retain the old behavior, exclude the relevant entries before the concat operation.\n",
      "  df = pd.concat([df, toAdd])\n",
      "F:\\programowanie\\studia\\magisterka\\sec_scrapper2\\finchat\\utils\\generateFinalRow.py:12: FutureWarning: The behavior of DataFrame concatenation with empty or all-NA entries is deprecated. In a future version, this will no longer exclude empty or all-NA columns when determining the result dtypes. To retain the old behavior, exclude the relevant entries before the concat operation.\n",
      "  df = pd.concat([df, toAdd])\n",
      "F:\\programowanie\\studia\\magisterka\\sec_scrapper2\\finchat\\utils\\generateFinalRow.py:12: FutureWarning: The behavior of DataFrame concatenation with empty or all-NA entries is deprecated. In a future version, this will no longer exclude empty or all-NA columns when determining the result dtypes. To retain the old behavior, exclude the relevant entries before the concat operation.\n",
      "  df = pd.concat([df, toAdd])\n",
      "F:\\programowanie\\studia\\magisterka\\sec_scrapper2\\finchat\\utils\\generateFinalRow.py:12: FutureWarning: The behavior of DataFrame concatenation with empty or all-NA entries is deprecated. In a future version, this will no longer exclude empty or all-NA columns when determining the result dtypes. To retain the old behavior, exclude the relevant entries before the concat operation.\n",
      "  df = pd.concat([df, toAdd])\n",
      "F:\\programowanie\\studia\\magisterka\\sec_scrapper2\\finchat\\utils\\generateFinalRow.py:12: FutureWarning: The behavior of DataFrame concatenation with empty or all-NA entries is deprecated. In a future version, this will no longer exclude empty or all-NA columns when determining the result dtypes. To retain the old behavior, exclude the relevant entries before the concat operation.\n",
      "  df = pd.concat([df, toAdd])\n",
      "F:\\programowanie\\studia\\magisterka\\sec_scrapper2\\finchat\\utils\\generateFinalRow.py:12: FutureWarning: The behavior of DataFrame concatenation with empty or all-NA entries is deprecated. In a future version, this will no longer exclude empty or all-NA columns when determining the result dtypes. To retain the old behavior, exclude the relevant entries before the concat operation.\n",
      "  df = pd.concat([df, toAdd])\n",
      "F:\\programowanie\\studia\\magisterka\\sec_scrapper2\\finchat\\utils\\generateFinalRow.py:12: FutureWarning: The behavior of DataFrame concatenation with empty or all-NA entries is deprecated. In a future version, this will no longer exclude empty or all-NA columns when determining the result dtypes. To retain the old behavior, exclude the relevant entries before the concat operation.\n",
      "  df = pd.concat([df, toAdd])\n",
      "F:\\programowanie\\studia\\magisterka\\sec_scrapper2\\finchat\\utils\\generateFinalRow.py:12: FutureWarning: The behavior of DataFrame concatenation with empty or all-NA entries is deprecated. In a future version, this will no longer exclude empty or all-NA columns when determining the result dtypes. To retain the old behavior, exclude the relevant entries before the concat operation.\n",
      "  df = pd.concat([df, toAdd])\n",
      "F:\\programowanie\\studia\\magisterka\\sec_scrapper2\\finchat\\utils\\generateFinalRow.py:12: FutureWarning: The behavior of DataFrame concatenation with empty or all-NA entries is deprecated. In a future version, this will no longer exclude empty or all-NA columns when determining the result dtypes. To retain the old behavior, exclude the relevant entries before the concat operation.\n",
      "  df = pd.concat([df, toAdd])\n",
      "F:\\programowanie\\studia\\magisterka\\sec_scrapper2\\finchat\\utils\\generateFinalRow.py:12: FutureWarning: The behavior of DataFrame concatenation with empty or all-NA entries is deprecated. In a future version, this will no longer exclude empty or all-NA columns when determining the result dtypes. To retain the old behavior, exclude the relevant entries before the concat operation.\n",
      "  df = pd.concat([df, toAdd])\n",
      "F:\\programowanie\\studia\\magisterka\\sec_scrapper2\\finchat\\utils\\generateFinalRow.py:12: FutureWarning: The behavior of DataFrame concatenation with empty or all-NA entries is deprecated. In a future version, this will no longer exclude empty or all-NA columns when determining the result dtypes. To retain the old behavior, exclude the relevant entries before the concat operation.\n",
      "  df = pd.concat([df, toAdd])\n",
      "F:\\programowanie\\studia\\magisterka\\sec_scrapper2\\finchat\\utils\\generateFinalRow.py:12: FutureWarning: The behavior of DataFrame concatenation with empty or all-NA entries is deprecated. In a future version, this will no longer exclude empty or all-NA columns when determining the result dtypes. To retain the old behavior, exclude the relevant entries before the concat operation.\n",
      "  df = pd.concat([df, toAdd])\n",
      "F:\\programowanie\\studia\\magisterka\\sec_scrapper2\\finchat\\utils\\generateFinalRow.py:12: FutureWarning: The behavior of DataFrame concatenation with empty or all-NA entries is deprecated. In a future version, this will no longer exclude empty or all-NA columns when determining the result dtypes. To retain the old behavior, exclude the relevant entries before the concat operation.\n",
      "  df = pd.concat([df, toAdd])\n",
      "F:\\programowanie\\studia\\magisterka\\sec_scrapper2\\finchat\\utils\\generateFinalRow.py:12: FutureWarning: The behavior of DataFrame concatenation with empty or all-NA entries is deprecated. In a future version, this will no longer exclude empty or all-NA columns when determining the result dtypes. To retain the old behavior, exclude the relevant entries before the concat operation.\n",
      "  df = pd.concat([df, toAdd])\n",
      "F:\\programowanie\\studia\\magisterka\\sec_scrapper2\\finchat\\utils\\generateFinalRow.py:12: FutureWarning: The behavior of DataFrame concatenation with empty or all-NA entries is deprecated. In a future version, this will no longer exclude empty or all-NA columns when determining the result dtypes. To retain the old behavior, exclude the relevant entries before the concat operation.\n",
      "  df = pd.concat([df, toAdd])\n",
      "F:\\programowanie\\studia\\magisterka\\sec_scrapper2\\finchat\\utils\\generateFinalRow.py:12: FutureWarning: The behavior of DataFrame concatenation with empty or all-NA entries is deprecated. In a future version, this will no longer exclude empty or all-NA columns when determining the result dtypes. To retain the old behavior, exclude the relevant entries before the concat operation.\n",
      "  df = pd.concat([df, toAdd])\n",
      "F:\\programowanie\\studia\\magisterka\\sec_scrapper2\\finchat\\utils\\generateFinalRow.py:12: FutureWarning: The behavior of DataFrame concatenation with empty or all-NA entries is deprecated. In a future version, this will no longer exclude empty or all-NA columns when determining the result dtypes. To retain the old behavior, exclude the relevant entries before the concat operation.\n",
      "  df = pd.concat([df, toAdd])\n",
      "F:\\programowanie\\studia\\magisterka\\sec_scrapper2\\finchat\\utils\\generateFinalRow.py:12: FutureWarning: The behavior of DataFrame concatenation with empty or all-NA entries is deprecated. In a future version, this will no longer exclude empty or all-NA columns when determining the result dtypes. To retain the old behavior, exclude the relevant entries before the concat operation.\n",
      "  df = pd.concat([df, toAdd])\n",
      "F:\\programowanie\\studia\\magisterka\\sec_scrapper2\\finchat\\utils\\generateFinalRow.py:12: FutureWarning: The behavior of DataFrame concatenation with empty or all-NA entries is deprecated. In a future version, this will no longer exclude empty or all-NA columns when determining the result dtypes. To retain the old behavior, exclude the relevant entries before the concat operation.\n",
      "  df = pd.concat([df, toAdd])\n",
      "F:\\programowanie\\studia\\magisterka\\sec_scrapper2\\finchat\\utils\\generateFinalRow.py:12: FutureWarning: The behavior of DataFrame concatenation with empty or all-NA entries is deprecated. In a future version, this will no longer exclude empty or all-NA columns when determining the result dtypes. To retain the old behavior, exclude the relevant entries before the concat operation.\n",
      "  df = pd.concat([df, toAdd])\n",
      "F:\\programowanie\\studia\\magisterka\\sec_scrapper2\\finchat\\utils\\generateFinalRow.py:12: FutureWarning: The behavior of DataFrame concatenation with empty or all-NA entries is deprecated. In a future version, this will no longer exclude empty or all-NA columns when determining the result dtypes. To retain the old behavior, exclude the relevant entries before the concat operation.\n",
      "  df = pd.concat([df, toAdd])\n",
      "F:\\programowanie\\studia\\magisterka\\sec_scrapper2\\finchat\\utils\\generateFinalRow.py:12: FutureWarning: The behavior of DataFrame concatenation with empty or all-NA entries is deprecated. In a future version, this will no longer exclude empty or all-NA columns when determining the result dtypes. To retain the old behavior, exclude the relevant entries before the concat operation.\n",
      "  df = pd.concat([df, toAdd])\n",
      "F:\\programowanie\\studia\\magisterka\\sec_scrapper2\\finchat\\utils\\generateFinalRow.py:12: FutureWarning: The behavior of DataFrame concatenation with empty or all-NA entries is deprecated. In a future version, this will no longer exclude empty or all-NA columns when determining the result dtypes. To retain the old behavior, exclude the relevant entries before the concat operation.\n",
      "  df = pd.concat([df, toAdd])\n",
      "F:\\programowanie\\studia\\magisterka\\sec_scrapper2\\finchat\\utils\\generateFinalRow.py:12: FutureWarning: The behavior of DataFrame concatenation with empty or all-NA entries is deprecated. In a future version, this will no longer exclude empty or all-NA columns when determining the result dtypes. To retain the old behavior, exclude the relevant entries before the concat operation.\n",
      "  df = pd.concat([df, toAdd])\n",
      "F:\\programowanie\\studia\\magisterka\\sec_scrapper2\\finchat\\utils\\generateFinalRow.py:12: FutureWarning: The behavior of DataFrame concatenation with empty or all-NA entries is deprecated. In a future version, this will no longer exclude empty or all-NA columns when determining the result dtypes. To retain the old behavior, exclude the relevant entries before the concat operation.\n",
      "  df = pd.concat([df, toAdd])\n",
      "F:\\programowanie\\studia\\magisterka\\sec_scrapper2\\finchat\\utils\\generateFinalRow.py:12: FutureWarning: The behavior of DataFrame concatenation with empty or all-NA entries is deprecated. In a future version, this will no longer exclude empty or all-NA columns when determining the result dtypes. To retain the old behavior, exclude the relevant entries before the concat operation.\n",
      "  df = pd.concat([df, toAdd])\n",
      "F:\\programowanie\\studia\\magisterka\\sec_scrapper2\\finchat\\utils\\generateFinalRow.py:12: FutureWarning: The behavior of DataFrame concatenation with empty or all-NA entries is deprecated. In a future version, this will no longer exclude empty or all-NA columns when determining the result dtypes. To retain the old behavior, exclude the relevant entries before the concat operation.\n",
      "  df = pd.concat([df, toAdd])\n",
      "F:\\programowanie\\studia\\magisterka\\sec_scrapper2\\finchat\\utils\\generateFinalRow.py:12: FutureWarning: The behavior of DataFrame concatenation with empty or all-NA entries is deprecated. In a future version, this will no longer exclude empty or all-NA columns when determining the result dtypes. To retain the old behavior, exclude the relevant entries before the concat operation.\n",
      "  df = pd.concat([df, toAdd])\n",
      "F:\\programowanie\\studia\\magisterka\\sec_scrapper2\\finchat\\utils\\generateFinalRow.py:12: FutureWarning: The behavior of DataFrame concatenation with empty or all-NA entries is deprecated. In a future version, this will no longer exclude empty or all-NA columns when determining the result dtypes. To retain the old behavior, exclude the relevant entries before the concat operation.\n",
      "  df = pd.concat([df, toAdd])\n",
      "F:\\programowanie\\studia\\magisterka\\sec_scrapper2\\finchat\\utils\\generateFinalRow.py:12: FutureWarning: The behavior of DataFrame concatenation with empty or all-NA entries is deprecated. In a future version, this will no longer exclude empty or all-NA columns when determining the result dtypes. To retain the old behavior, exclude the relevant entries before the concat operation.\n",
      "  df = pd.concat([df, toAdd])\n"
     ]
    }
   ],
   "source": [
    "    # Generate y-no-alpha\n",
    "    # results(no-alpha) -> y-no-alpha\n",
    "    resultsPath = '../data/extra-data/results/'\n",
    "    fileNames = os.listdir(resultsPath)\n",
    "    companyDf = pd.DataFrame()\n",
    "    offsets = [1,2]\n",
    "    for fileName in fileNames:\n",
    "        with open(resultsPath + fileName) as json_data:\n",
    "            data = json.load(json_data)\n",
    "            companyDf, i = generateFinalRows(data, ratioKeys, fileName, 0, companyDf, offsets)\n",
    "            \n",
    "            companyDf.to_csv('../data/extra-data/y-no-alpha/'+fileName.replace('.json', '.csv'), sep='\\t')\n",
    "        # print('Done ' + fileName)\n",
    "\n",
    "# df = pd.read_csv('../data/temp.csv', sep='\\t')"
   ],
   "metadata": {
    "collapsed": false,
    "ExecuteTime": {
     "end_time": "2025-05-24T15:31:00.598167Z",
     "start_time": "2025-05-24T15:30:42.796536Z"
    }
   },
   "id": "2f74ecd6c5cc0b62",
   "execution_count": 3
  },
  {
   "cell_type": "code",
   "outputs": [],
   "source": [
    "# fileNames = os.listdir('../data/results')\n",
    "# TEST!!!! TODO:\n",
    "# Change offset to param!\n"
   ],
   "metadata": {
    "collapsed": false,
    "ExecuteTime": {
     "end_time": "2025-04-13T15:57:13.125672Z",
     "start_time": "2025-04-13T15:57:13.025532Z"
    }
   },
   "id": "186e9f1cd7023cd3",
   "execution_count": 8
  },
  {
   "cell_type": "code",
   "outputs": [],
   "source": [
    "from utils.generateRelativeRow import getRelativeRows\n",
    "# if not os.path.isfile('../data/temp-relative.csv'):\n",
    "fileNames = os.listdir(resultsPath)\n",
    "companyDf = pd.DataFrame()\n",
    "i = 0\n",
    "offsets = [1,2]\n",
    "for fileName in fileNames: \n",
    "    with open(resultsPath + fileName) as json_data:\n",
    "        data = json.load(json_data)\n",
    "        companyDf, i = getRelativeRows(data, ratioKeys, fileName, i, companyDf, offsets)\n",
    "        break\n",
    "companyDf.to_csv('../data/temp-relative.csv', sep='\\t')\n",
    "    \n",
    "# relativeDf = pd.read_csv('../data/temp-relative.csv', sep='\\t')"
   ],
   "metadata": {
    "collapsed": false,
    "ExecuteTime": {
     "start_time": "2025-04-13T15:26:29.132665Z"
    }
   },
   "id": "528f6861af2b4151",
   "execution_count": null
  },
  {
   "cell_type": "code",
   "outputs": [],
   "source": [
    "# TODO: DROP evToSales evToGrossProfit and calculate other columns again. More data will be available"
   ],
   "metadata": {
    "collapsed": false
   },
   "id": "45f705c0823781e1",
   "execution_count": null
  },
  {
   "cell_type": "code",
   "outputs": [],
   "source": [
    "# TODO: normalize ratios. Could have better results. \n",
    "dfNorm = pd.DataFrame(normalize(df[ratioKeys]), columns=ratioKeys)\n",
    "dfY = df[yKeys + y2Keys]\n",
    "dfNorm = dfNorm.join(dfY)"
   ],
   "metadata": {
    "collapsed": false,
    "ExecuteTime": {
     "end_time": "2025-04-13T15:26:29.137026Z",
     "start_time": "2025-04-13T15:26:29.137026Z"
    }
   },
   "id": "92bbb82ba4cdad29",
   "execution_count": null
  },
  {
   "cell_type": "code",
   "outputs": [],
   "source": [
    "dfRelativeNorm = pd.DataFrame(normalize(relativeDf[ratioKeys]), columns=ratioKeys)\n",
    "dfY = df[yKeys + y2Keys]\n",
    "dfRelativeNorm = dfRelativeNorm.join(dfY)"
   ],
   "metadata": {
    "collapsed": false,
    "ExecuteTime": {
     "end_time": "2025-04-13T15:26:29.141469Z",
     "start_time": "2025-04-13T15:26:29.140385Z"
    }
   },
   "id": "3ca1a75c2a57a81f",
   "execution_count": null
  },
  {
   "cell_type": "code",
   "outputs": [],
   "source": [
    "# dfNorm\n",
    "# relativeDf\n",
    "dfRelativeNorm"
   ],
   "metadata": {
    "collapsed": false,
    "ExecuteTime": {
     "end_time": "2025-04-13T15:26:29.145854Z",
     "start_time": "2025-04-13T15:26:29.143654Z"
    }
   },
   "id": "35ea393fe8eafff3",
   "execution_count": null
  },
  {
   "cell_type": "code",
   "outputs": [],
   "source": [
    "sns.set_theme(rc={'figure.figsize':(11.7,8.27)})"
   ],
   "metadata": {
    "collapsed": false,
    "ExecuteTime": {
     "end_time": "2025-04-13T15:26:29.148009Z",
     "start_time": "2025-04-13T15:26:29.148009Z"
    }
   },
   "id": "b8245dec584da4d0",
   "execution_count": null
  },
  {
   "cell_type": "code",
   "outputs": [],
   "source": [
    "matrix = relativeDf[numericalKeys].corr()\n",
    "sns.heatmap(matrix, cmap=\"Greens\", annot=True, fmt=\".2f\", ).set_title(\"Not normalized RELATIVE values\")"
   ],
   "metadata": {
    "collapsed": false,
    "ExecuteTime": {
     "end_time": "2025-04-13T15:26:29.150205Z",
     "start_time": "2025-04-13T15:26:29.149101Z"
    }
   },
   "id": "9e939db432c19936",
   "execution_count": null
  },
  {
   "cell_type": "code",
   "outputs": [],
   "source": [
    "matrix = dfRelativeNorm[numericalKeys].corr()\n",
    "sns.heatmap(matrix, cmap=\"Greens\", annot=True, fmt=\".2f\", ).set_title(\"Normalized RELATIVE values\")"
   ],
   "metadata": {
    "collapsed": false,
    "ExecuteTime": {
     "end_time": "2025-04-13T15:26:29.151283Z",
     "start_time": "2025-04-13T15:26:29.151283Z"
    }
   },
   "id": "4b79a3e12f6d5a6f",
   "execution_count": null
  },
  {
   "cell_type": "code",
   "outputs": [],
   "source": [
    "matrix = df[numericalKeys].corr()\n",
    "sns.heatmap(matrix, cmap=\"Greens\", annot=True, fmt=\".2f\", ).set_title(\"Not normalized absolute values\")"
   ],
   "metadata": {
    "collapsed": false,
    "ExecuteTime": {
     "start_time": "2025-04-13T15:26:29.153162Z"
    }
   },
   "id": "928e1515d1ca3b65",
   "execution_count": null
  },
  {
   "cell_type": "code",
   "outputs": [],
   "source": [
    "matrix = dfNorm.corr()\n",
    "sns.heatmap(matrix, cmap=\"Greens\", annot=True, fmt=\".2f\", ).set_title(\"Normalized absolute values\")"
   ],
   "metadata": {
    "collapsed": false,
    "ExecuteTime": {
     "end_time": "2025-04-13T15:26:29.155339Z",
     "start_time": "2025-04-13T15:26:29.154263Z"
    }
   },
   "id": "29a179b8972fe683",
   "execution_count": null
  },
  {
   "cell_type": "code",
   "outputs": [],
   "source": [
    "\n",
    "# for i, key in enumerate(keys):\n",
    "#     med = statistics.median(df[key])\n",
    "#     mean = statistics.mean(df[key])\n",
    "#     # print(\"key: {}, median: {}, mean: {}\".format(key, med, round(mean, 2)))\n",
    "#     \n",
    "#     # TODO: outliers from returns too\n",
    "#     q_low = df[key].quantile(0.01)\n",
    "#     q_hi  = df[key].quantile(0.99)\n",
    "#     \n",
    "#     df_filtered = df[(df[key] < q_hi) & (df[key] > q_low)]\n",
    "    # sns.scatterplot(data=df_filtered, x=key, y='yAdjustedTotalPrice')\n",
    "    # plt.show()\n"
   ],
   "metadata": {
    "collapsed": false,
    "ExecuteTime": {
     "start_time": "2025-04-13T15:26:29.157525Z"
    }
   },
   "id": "69a45190c79c5fa7",
   "execution_count": null
  },
  {
   "cell_type": "code",
   "outputs": [],
   "source": [],
   "metadata": {
    "collapsed": false,
    "ExecuteTime": {
     "end_time": "2025-04-13T15:26:29.161914Z",
     "start_time": "2025-04-13T15:26:29.159703Z"
    }
   },
   "id": "ad501b755fbe7e48",
   "execution_count": null
  }
 ],
 "metadata": {
  "kernelspec": {
   "display_name": "Python 3",
   "language": "python",
   "name": "python3"
  },
  "language_info": {
   "codemirror_mode": {
    "name": "ipython",
    "version": 2
   },
   "file_extension": ".py",
   "mimetype": "text/x-python",
   "name": "python",
   "nbconvert_exporter": "python",
   "pygments_lexer": "ipython2",
   "version": "2.7.6"
  }
 },
 "nbformat": 4,
 "nbformat_minor": 5
}
