{
 "cells": [
  {
   "cell_type": "code",
   "execution_count": 3,
   "id": "initial_id",
   "metadata": {
    "collapsed": true,
    "ExecuteTime": {
     "end_time": "2025-01-07T21:07:18.343600Z",
     "start_time": "2025-01-07T21:07:18.338499Z"
    }
   },
   "outputs": [],
   "source": [
    "from selenium import webdriver\n",
    "from selenium.webdriver.common.by import By\n",
    "from time import sleep\n",
    "import pandas as pd\n",
    "import json\n",
    "import numpy as np\n",
    "import io\n",
    "import csv\n",
    "import os\n",
    "import datetime"
   ]
  },
  {
   "cell_type": "code",
   "outputs": [],
   "source": [
    "exchange = {\n",
    "    'NASDAQ': 'NasdaqGS',\n",
    "    'New York Stock Exchange Inc.': 'NYSE'\n",
    "}"
   ],
   "metadata": {
    "collapsed": false,
    "ExecuteTime": {
     "end_time": "2025-01-07T21:07:18.355653Z",
     "start_time": "2025-01-07T21:07:18.352089Z"
    }
   },
   "id": "1eb42edd98ebcb44",
   "execution_count": 4
  },
  {
   "cell_type": "code",
   "outputs": [
    {
     "name": "stdout",
     "output_type": "stream",
     "text": [
      "https://workers.finchat.io/company/NasdaqGS-AAPL/valuation\n"
     ]
    },
    {
     "name": "stderr",
     "output_type": "stream",
     "text": [
      "IOPub data rate exceeded.\n",
      "The Jupyter server will temporarily stop sending output\n",
      "to the client in order to avoid crashing it.\n",
      "To change this limit, set the config variable\n",
      "`--ServerApp.iopub_data_rate_limit`.\n",
      "\n",
      "Current values:\n",
      "ServerApp.iopub_data_rate_limit=1000000.0 (bytes/sec)\n",
      "ServerApp.rate_limit_window=3.0 (secs)\n",
      "\n"
     ]
    }
   ],
   "source": [
    "driver = webdriver.Chrome()\n",
    "search_url = 'https://workers.finchat.io/company/$$$-&&&/valuation'\n",
    "\n",
    "df = pd.read_csv('../data/sp500-left.csv')\n",
    "\n",
    "for index, row in df.iterrows():\n",
    "    url = search_url.replace('$$$', exchange[row['Exchange']]).replace('&&&', row['Ticker'])\n",
    "    print(url)\n",
    "    driver.get(url)\n",
    "    sleep(1)\n",
    "    print(driver.page_source)\n",
    "    break\n"
   ],
   "metadata": {
    "collapsed": false,
    "ExecuteTime": {
     "end_time": "2025-01-07T21:18:31.109461Z",
     "start_time": "2025-01-07T21:18:25.759415Z"
    }
   },
   "id": "f08970288ce30f9e",
   "execution_count": 6
  },
  {
   "cell_type": "code",
   "outputs": [],
   "source": [],
   "metadata": {
    "collapsed": false
   },
   "id": "8252bdcec6020ba0"
  }
 ],
 "metadata": {
  "kernelspec": {
   "display_name": "Python 3",
   "language": "python",
   "name": "python3"
  },
  "language_info": {
   "codemirror_mode": {
    "name": "ipython",
    "version": 2
   },
   "file_extension": ".py",
   "mimetype": "text/x-python",
   "name": "python",
   "nbconvert_exporter": "python",
   "pygments_lexer": "ipython2",
   "version": "2.7.6"
  }
 },
 "nbformat": 4,
 "nbformat_minor": 5
}
