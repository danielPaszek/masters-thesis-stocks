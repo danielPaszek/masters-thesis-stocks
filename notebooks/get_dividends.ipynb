{
 "cells": [
  {
   "cell_type": "code",
   "execution_count": 21,
   "id": "initial_id",
   "metadata": {
    "collapsed": true,
    "ExecuteTime": {
     "end_time": "2025-02-19T22:53:16.197354Z",
     "start_time": "2025-02-19T22:53:16.193649Z"
    }
   },
   "outputs": [],
   "source": [
    "from selenium import webdriver\n",
    "from selenium.webdriver.common.by import By\n",
    "from time import sleep\n",
    "import pandas as pd\n",
    "import io"
   ]
  },
  {
   "cell_type": "code",
   "outputs": [
    {
     "name": "stdout",
     "output_type": "stream",
     "text": [
      "https://companiesmarketcap.com/apple/dividends/\n",
      "         Date Dividend (stock split adjusted) Change\n",
      "0  2025-02-10                           $0.25    NaN\n",
      "1  2024-11-08                           $0.25    NaN\n",
      "2  2024-08-12                           $0.25    NaN\n",
      "3  2024-05-10                           $0.25  4.17%\n",
      "4  2024-02-09                           $0.24    NaN\n"
     ]
    }
   ],
   "source": [
    "driver = webdriver.Chrome()\n",
    "search_url = 'https://companiesmarketcap.com/$$$/dividends/'\n",
    "\n",
    "# df = pd.read_csv('../data/sp500-left.csv')\n",
    "df = pd.read_csv('../data/IVV_holdings.csv')\n",
    "\n",
    "toStrip = [\n",
    "    \" LTD\",\" INC\",\" CORP\",\" CLASS A\",\" CLASS B\",\" CLASS C\", \" plc\"\n",
    "]\n",
    "\n",
    "for index, row in df.iterrows():\n",
    "    name = row['Name']\n",
    "    for repl in toStrip:\n",
    "        name = name.replace(repl, \"\")\n",
    "    name = name.strip().lower().replace(\" \", \"-\").replace(\"&\", \"and\")\n",
    "    url = search_url.replace('$$$', name)\n",
    "    print(url)\n",
    "    driver.get(url)\n",
    "    sleep(1)\n",
    "    table = driver.find_element(By.XPATH, \"//h3[text()='List of all dividend payments']/following-sibling::table[1]\")\n",
    "    f = io.StringIO('<table>' + table.get_attribute('innerHTML') + '</table>')\n",
    "    df = pd.read_html(f)[0]\n",
    "    print(df.head())\n",
    "    break\n"
   ],
   "metadata": {
    "collapsed": false,
    "ExecuteTime": {
     "end_time": "2025-02-19T22:53:22.453712Z",
     "start_time": "2025-02-19T22:53:16.207109Z"
    }
   },
   "id": "c1daaedfe233854b",
   "execution_count": 22
  }
 ],
 "metadata": {
  "kernelspec": {
   "display_name": "Python 3",
   "language": "python",
   "name": "python3"
  },
  "language_info": {
   "codemirror_mode": {
    "name": "ipython",
    "version": 2
   },
   "file_extension": ".py",
   "mimetype": "text/x-python",
   "name": "python",
   "nbconvert_exporter": "python",
   "pygments_lexer": "ipython2",
   "version": "2.7.6"
  }
 },
 "nbformat": 4,
 "nbformat_minor": 5
}
